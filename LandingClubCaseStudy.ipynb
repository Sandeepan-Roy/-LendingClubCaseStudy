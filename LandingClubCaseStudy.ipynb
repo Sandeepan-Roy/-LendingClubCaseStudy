{
 "cells": [
  {
   "cell_type": "markdown",
   "id": "4e4bda67",
   "metadata": {},
   "source": [
    "# Importing necessary libraries"
   ]
  },
  {
   "cell_type": "code",
   "execution_count": 1,
   "id": "a2cc80ff",
   "metadata": {},
   "outputs": [],
   "source": [
    "import pandas as pd\n",
    "import numpy as np\n",
    "\n",
    "import warnings\n",
    "warnings.filterwarnings(\"ignore\")\n",
    "\n",
    "pd.set_option('display.max_colwidth', None)\n",
    "pd.set_option('display.max_columns', None)\n",
    "pd.set_option('display.max_rows', None)"
   ]
  },
  {
   "cell_type": "markdown",
   "id": "28a31a66",
   "metadata": {},
   "source": [
    "# Loading the dataset"
   ]
  },
  {
   "cell_type": "code",
   "execution_count": 2,
   "id": "3ce23ec0",
   "metadata": {},
   "outputs": [],
   "source": [
    "df = pd.read_csv('loan.csv')"
   ]
  },
  {
   "cell_type": "markdown",
   "id": "05a016b0",
   "metadata": {},
   "source": [
    "## Number of rows, number of columns and descriptive information about the dataset"
   ]
  },
  {
   "cell_type": "markdown",
   "id": "caeddfa5",
   "metadata": {},
   "source": [
    "### Number of rows and columns"
   ]
  },
  {
   "cell_type": "code",
   "execution_count": 3,
   "id": "f035c417",
   "metadata": {},
   "outputs": [
    {
     "data": {
      "text/plain": [
       "(39717, 111)"
      ]
     },
     "execution_count": 3,
     "metadata": {},
     "output_type": "execute_result"
    }
   ],
   "source": [
    "df.shape"
   ]
  },
  {
   "cell_type": "markdown",
   "id": "1523caf5",
   "metadata": {},
   "source": [
    "- The data set has 39717 rows and 111 columns"
   ]
  },
  {
   "cell_type": "markdown",
   "id": "364abcc7",
   "metadata": {},
   "source": [
    "#### Data types of columns, column names, and number of non-null values in each column"
   ]
  },
  {
   "cell_type": "code",
   "execution_count": 4,
   "id": "972e7101",
   "metadata": {},
   "outputs": [
    {
     "name": "stdout",
     "output_type": "stream",
     "text": [
      "<class 'pandas.core.frame.DataFrame'>\n",
      "RangeIndex: 39717 entries, 0 to 39716\n",
      "Data columns (total 111 columns):\n",
      " #    Column                          Non-Null Count  Dtype  \n",
      "---   ------                          --------------  -----  \n",
      " 0    id                              39717 non-null  int64  \n",
      " 1    member_id                       39717 non-null  int64  \n",
      " 2    loan_amnt                       39717 non-null  int64  \n",
      " 3    funded_amnt                     39717 non-null  int64  \n",
      " 4    funded_amnt_inv                 39717 non-null  float64\n",
      " 5    term                            39717 non-null  object \n",
      " 6    int_rate                        39717 non-null  object \n",
      " 7    installment                     39717 non-null  float64\n",
      " 8    grade                           39717 non-null  object \n",
      " 9    sub_grade                       39717 non-null  object \n",
      " 10   emp_title                       37258 non-null  object \n",
      " 11   emp_length                      38642 non-null  object \n",
      " 12   home_ownership                  39717 non-null  object \n",
      " 13   annual_inc                      39717 non-null  float64\n",
      " 14   verification_status             39717 non-null  object \n",
      " 15   issue_d                         39717 non-null  object \n",
      " 16   loan_status                     39717 non-null  object \n",
      " 17   pymnt_plan                      39717 non-null  object \n",
      " 18   url                             39717 non-null  object \n",
      " 19   desc                            26777 non-null  object \n",
      " 20   purpose                         39717 non-null  object \n",
      " 21   title                           39706 non-null  object \n",
      " 22   zip_code                        39717 non-null  object \n",
      " 23   addr_state                      39717 non-null  object \n",
      " 24   dti                             39717 non-null  float64\n",
      " 25   delinq_2yrs                     39717 non-null  int64  \n",
      " 26   earliest_cr_line                39717 non-null  object \n",
      " 27   inq_last_6mths                  39717 non-null  int64  \n",
      " 28   mths_since_last_delinq          14035 non-null  float64\n",
      " 29   mths_since_last_record          2786 non-null   float64\n",
      " 30   open_acc                        39717 non-null  int64  \n",
      " 31   pub_rec                         39717 non-null  int64  \n",
      " 32   revol_bal                       39717 non-null  int64  \n",
      " 33   revol_util                      39667 non-null  object \n",
      " 34   total_acc                       39717 non-null  int64  \n",
      " 35   initial_list_status             39717 non-null  object \n",
      " 36   out_prncp                       39717 non-null  float64\n",
      " 37   out_prncp_inv                   39717 non-null  float64\n",
      " 38   total_pymnt                     39717 non-null  float64\n",
      " 39   total_pymnt_inv                 39717 non-null  float64\n",
      " 40   total_rec_prncp                 39717 non-null  float64\n",
      " 41   total_rec_int                   39717 non-null  float64\n",
      " 42   total_rec_late_fee              39717 non-null  float64\n",
      " 43   recoveries                      39717 non-null  float64\n",
      " 44   collection_recovery_fee         39717 non-null  float64\n",
      " 45   last_pymnt_d                    39646 non-null  object \n",
      " 46   last_pymnt_amnt                 39717 non-null  float64\n",
      " 47   next_pymnt_d                    1140 non-null   object \n",
      " 48   last_credit_pull_d              39715 non-null  object \n",
      " 49   collections_12_mths_ex_med      39661 non-null  float64\n",
      " 50   mths_since_last_major_derog     0 non-null      float64\n",
      " 51   policy_code                     39717 non-null  int64  \n",
      " 52   application_type                39717 non-null  object \n",
      " 53   annual_inc_joint                0 non-null      float64\n",
      " 54   dti_joint                       0 non-null      float64\n",
      " 55   verification_status_joint       0 non-null      float64\n",
      " 56   acc_now_delinq                  39717 non-null  int64  \n",
      " 57   tot_coll_amt                    0 non-null      float64\n",
      " 58   tot_cur_bal                     0 non-null      float64\n",
      " 59   open_acc_6m                     0 non-null      float64\n",
      " 60   open_il_6m                      0 non-null      float64\n",
      " 61   open_il_12m                     0 non-null      float64\n",
      " 62   open_il_24m                     0 non-null      float64\n",
      " 63   mths_since_rcnt_il              0 non-null      float64\n",
      " 64   total_bal_il                    0 non-null      float64\n",
      " 65   il_util                         0 non-null      float64\n",
      " 66   open_rv_12m                     0 non-null      float64\n",
      " 67   open_rv_24m                     0 non-null      float64\n",
      " 68   max_bal_bc                      0 non-null      float64\n",
      " 69   all_util                        0 non-null      float64\n",
      " 70   total_rev_hi_lim                0 non-null      float64\n",
      " 71   inq_fi                          0 non-null      float64\n",
      " 72   total_cu_tl                     0 non-null      float64\n",
      " 73   inq_last_12m                    0 non-null      float64\n",
      " 74   acc_open_past_24mths            0 non-null      float64\n",
      " 75   avg_cur_bal                     0 non-null      float64\n",
      " 76   bc_open_to_buy                  0 non-null      float64\n",
      " 77   bc_util                         0 non-null      float64\n",
      " 78   chargeoff_within_12_mths        39661 non-null  float64\n",
      " 79   delinq_amnt                     39717 non-null  int64  \n",
      " 80   mo_sin_old_il_acct              0 non-null      float64\n",
      " 81   mo_sin_old_rev_tl_op            0 non-null      float64\n",
      " 82   mo_sin_rcnt_rev_tl_op           0 non-null      float64\n",
      " 83   mo_sin_rcnt_tl                  0 non-null      float64\n",
      " 84   mort_acc                        0 non-null      float64\n",
      " 85   mths_since_recent_bc            0 non-null      float64\n",
      " 86   mths_since_recent_bc_dlq        0 non-null      float64\n",
      " 87   mths_since_recent_inq           0 non-null      float64\n",
      " 88   mths_since_recent_revol_delinq  0 non-null      float64\n",
      " 89   num_accts_ever_120_pd           0 non-null      float64\n",
      " 90   num_actv_bc_tl                  0 non-null      float64\n",
      " 91   num_actv_rev_tl                 0 non-null      float64\n",
      " 92   num_bc_sats                     0 non-null      float64\n",
      " 93   num_bc_tl                       0 non-null      float64\n",
      " 94   num_il_tl                       0 non-null      float64\n",
      " 95   num_op_rev_tl                   0 non-null      float64\n",
      " 96   num_rev_accts                   0 non-null      float64\n",
      " 97   num_rev_tl_bal_gt_0             0 non-null      float64\n",
      " 98   num_sats                        0 non-null      float64\n",
      " 99   num_tl_120dpd_2m                0 non-null      float64\n",
      " 100  num_tl_30dpd                    0 non-null      float64\n",
      " 101  num_tl_90g_dpd_24m              0 non-null      float64\n",
      " 102  num_tl_op_past_12m              0 non-null      float64\n",
      " 103  pct_tl_nvr_dlq                  0 non-null      float64\n",
      " 104  percent_bc_gt_75                0 non-null      float64\n",
      " 105  pub_rec_bankruptcies            39020 non-null  float64\n",
      " 106  tax_liens                       39678 non-null  float64\n",
      " 107  tot_hi_cred_lim                 0 non-null      float64\n",
      " 108  total_bal_ex_mort               0 non-null      float64\n",
      " 109  total_bc_limit                  0 non-null      float64\n",
      " 110  total_il_high_credit_limit      0 non-null      float64\n",
      "dtypes: float64(74), int64(13), object(24)\n",
      "memory usage: 33.6+ MB\n"
     ]
    }
   ],
   "source": [
    "df.info(null_counts=True, verbose=True)"
   ]
  },
  {
   "cell_type": "markdown",
   "id": "552a0d49",
   "metadata": {},
   "source": [
    "### Observation"
   ]
  },
  {
   "cell_type": "markdown",
   "id": "cf3aa897",
   "metadata": {},
   "source": [
    "- There are few columns that have all null values. These columns have to be removed.\n",
    "- int_rate column stands for interest_rate of the loan. The datatype of the column is object where as it should be float. This needs to be handled\n"
   ]
  },
  {
   "cell_type": "markdown",
   "id": "eda9d035",
   "metadata": {},
   "source": [
    "# Data Cleaning\n"
   ]
  },
  {
   "cell_type": "markdown",
   "id": "201ee887",
   "metadata": {},
   "source": [
    "\n",
    "## Handling missing values\n"
   ]
  },
  {
   "cell_type": "code",
   "execution_count": 7,
   "id": "e8a7d6fe",
   "metadata": {},
   "outputs": [
    {
     "data": {
      "text/html": [
       "<div>\n",
       "<style scoped>\n",
       "    .dataframe tbody tr th:only-of-type {\n",
       "        vertical-align: middle;\n",
       "    }\n",
       "\n",
       "    .dataframe tbody tr th {\n",
       "        vertical-align: top;\n",
       "    }\n",
       "\n",
       "    .dataframe thead th {\n",
       "        text-align: right;\n",
       "    }\n",
       "</style>\n",
       "<table border=\"1\" class=\"dataframe\">\n",
       "  <thead>\n",
       "    <tr style=\"text-align: right;\">\n",
       "      <th></th>\n",
       "      <th>count_of_null_values</th>\n",
       "      <th>percentage</th>\n",
       "    </tr>\n",
       "  </thead>\n",
       "  <tbody>\n",
       "    <tr>\n",
       "      <th>bc_open_to_buy</th>\n",
       "      <td>39717</td>\n",
       "      <td>100.000000</td>\n",
       "    </tr>\n",
       "    <tr>\n",
       "      <th>acc_open_past_24mths</th>\n",
       "      <td>39717</td>\n",
       "      <td>100.000000</td>\n",
       "    </tr>\n",
       "    <tr>\n",
       "      <th>bc_util</th>\n",
       "      <td>39717</td>\n",
       "      <td>100.000000</td>\n",
       "    </tr>\n",
       "    <tr>\n",
       "      <th>mo_sin_old_il_acct</th>\n",
       "      <td>39717</td>\n",
       "      <td>100.000000</td>\n",
       "    </tr>\n",
       "    <tr>\n",
       "      <th>mo_sin_old_rev_tl_op</th>\n",
       "      <td>39717</td>\n",
       "      <td>100.000000</td>\n",
       "    </tr>\n",
       "    <tr>\n",
       "      <th>mo_sin_rcnt_rev_tl_op</th>\n",
       "      <td>39717</td>\n",
       "      <td>100.000000</td>\n",
       "    </tr>\n",
       "    <tr>\n",
       "      <th>mo_sin_rcnt_tl</th>\n",
       "      <td>39717</td>\n",
       "      <td>100.000000</td>\n",
       "    </tr>\n",
       "    <tr>\n",
       "      <th>mort_acc</th>\n",
       "      <td>39717</td>\n",
       "      <td>100.000000</td>\n",
       "    </tr>\n",
       "    <tr>\n",
       "      <th>mths_since_recent_bc</th>\n",
       "      <td>39717</td>\n",
       "      <td>100.000000</td>\n",
       "    </tr>\n",
       "    <tr>\n",
       "      <th>mths_since_recent_bc_dlq</th>\n",
       "      <td>39717</td>\n",
       "      <td>100.000000</td>\n",
       "    </tr>\n",
       "    <tr>\n",
       "      <th>mths_since_recent_inq</th>\n",
       "      <td>39717</td>\n",
       "      <td>100.000000</td>\n",
       "    </tr>\n",
       "    <tr>\n",
       "      <th>mths_since_recent_revol_delinq</th>\n",
       "      <td>39717</td>\n",
       "      <td>100.000000</td>\n",
       "    </tr>\n",
       "    <tr>\n",
       "      <th>num_accts_ever_120_pd</th>\n",
       "      <td>39717</td>\n",
       "      <td>100.000000</td>\n",
       "    </tr>\n",
       "    <tr>\n",
       "      <th>num_actv_bc_tl</th>\n",
       "      <td>39717</td>\n",
       "      <td>100.000000</td>\n",
       "    </tr>\n",
       "    <tr>\n",
       "      <th>num_actv_rev_tl</th>\n",
       "      <td>39717</td>\n",
       "      <td>100.000000</td>\n",
       "    </tr>\n",
       "    <tr>\n",
       "      <th>num_bc_sats</th>\n",
       "      <td>39717</td>\n",
       "      <td>100.000000</td>\n",
       "    </tr>\n",
       "    <tr>\n",
       "      <th>num_bc_tl</th>\n",
       "      <td>39717</td>\n",
       "      <td>100.000000</td>\n",
       "    </tr>\n",
       "    <tr>\n",
       "      <th>num_il_tl</th>\n",
       "      <td>39717</td>\n",
       "      <td>100.000000</td>\n",
       "    </tr>\n",
       "    <tr>\n",
       "      <th>num_op_rev_tl</th>\n",
       "      <td>39717</td>\n",
       "      <td>100.000000</td>\n",
       "    </tr>\n",
       "    <tr>\n",
       "      <th>num_rev_accts</th>\n",
       "      <td>39717</td>\n",
       "      <td>100.000000</td>\n",
       "    </tr>\n",
       "    <tr>\n",
       "      <th>num_rev_tl_bal_gt_0</th>\n",
       "      <td>39717</td>\n",
       "      <td>100.000000</td>\n",
       "    </tr>\n",
       "    <tr>\n",
       "      <th>num_sats</th>\n",
       "      <td>39717</td>\n",
       "      <td>100.000000</td>\n",
       "    </tr>\n",
       "    <tr>\n",
       "      <th>num_tl_120dpd_2m</th>\n",
       "      <td>39717</td>\n",
       "      <td>100.000000</td>\n",
       "    </tr>\n",
       "    <tr>\n",
       "      <th>num_tl_30dpd</th>\n",
       "      <td>39717</td>\n",
       "      <td>100.000000</td>\n",
       "    </tr>\n",
       "    <tr>\n",
       "      <th>num_tl_90g_dpd_24m</th>\n",
       "      <td>39717</td>\n",
       "      <td>100.000000</td>\n",
       "    </tr>\n",
       "    <tr>\n",
       "      <th>num_tl_op_past_12m</th>\n",
       "      <td>39717</td>\n",
       "      <td>100.000000</td>\n",
       "    </tr>\n",
       "    <tr>\n",
       "      <th>pct_tl_nvr_dlq</th>\n",
       "      <td>39717</td>\n",
       "      <td>100.000000</td>\n",
       "    </tr>\n",
       "    <tr>\n",
       "      <th>percent_bc_gt_75</th>\n",
       "      <td>39717</td>\n",
       "      <td>100.000000</td>\n",
       "    </tr>\n",
       "    <tr>\n",
       "      <th>tot_hi_cred_lim</th>\n",
       "      <td>39717</td>\n",
       "      <td>100.000000</td>\n",
       "    </tr>\n",
       "    <tr>\n",
       "      <th>total_bal_ex_mort</th>\n",
       "      <td>39717</td>\n",
       "      <td>100.000000</td>\n",
       "    </tr>\n",
       "    <tr>\n",
       "      <th>total_bc_limit</th>\n",
       "      <td>39717</td>\n",
       "      <td>100.000000</td>\n",
       "    </tr>\n",
       "    <tr>\n",
       "      <th>avg_cur_bal</th>\n",
       "      <td>39717</td>\n",
       "      <td>100.000000</td>\n",
       "    </tr>\n",
       "    <tr>\n",
       "      <th>total_il_high_credit_limit</th>\n",
       "      <td>39717</td>\n",
       "      <td>100.000000</td>\n",
       "    </tr>\n",
       "    <tr>\n",
       "      <th>inq_last_12m</th>\n",
       "      <td>39717</td>\n",
       "      <td>100.000000</td>\n",
       "    </tr>\n",
       "    <tr>\n",
       "      <th>mths_since_rcnt_il</th>\n",
       "      <td>39717</td>\n",
       "      <td>100.000000</td>\n",
       "    </tr>\n",
       "    <tr>\n",
       "      <th>mths_since_last_major_derog</th>\n",
       "      <td>39717</td>\n",
       "      <td>100.000000</td>\n",
       "    </tr>\n",
       "    <tr>\n",
       "      <th>annual_inc_joint</th>\n",
       "      <td>39717</td>\n",
       "      <td>100.000000</td>\n",
       "    </tr>\n",
       "    <tr>\n",
       "      <th>dti_joint</th>\n",
       "      <td>39717</td>\n",
       "      <td>100.000000</td>\n",
       "    </tr>\n",
       "    <tr>\n",
       "      <th>verification_status_joint</th>\n",
       "      <td>39717</td>\n",
       "      <td>100.000000</td>\n",
       "    </tr>\n",
       "    <tr>\n",
       "      <th>tot_coll_amt</th>\n",
       "      <td>39717</td>\n",
       "      <td>100.000000</td>\n",
       "    </tr>\n",
       "    <tr>\n",
       "      <th>open_acc_6m</th>\n",
       "      <td>39717</td>\n",
       "      <td>100.000000</td>\n",
       "    </tr>\n",
       "    <tr>\n",
       "      <th>open_il_6m</th>\n",
       "      <td>39717</td>\n",
       "      <td>100.000000</td>\n",
       "    </tr>\n",
       "    <tr>\n",
       "      <th>open_il_12m</th>\n",
       "      <td>39717</td>\n",
       "      <td>100.000000</td>\n",
       "    </tr>\n",
       "    <tr>\n",
       "      <th>open_il_24m</th>\n",
       "      <td>39717</td>\n",
       "      <td>100.000000</td>\n",
       "    </tr>\n",
       "    <tr>\n",
       "      <th>tot_cur_bal</th>\n",
       "      <td>39717</td>\n",
       "      <td>100.000000</td>\n",
       "    </tr>\n",
       "    <tr>\n",
       "      <th>total_bal_il</th>\n",
       "      <td>39717</td>\n",
       "      <td>100.000000</td>\n",
       "    </tr>\n",
       "    <tr>\n",
       "      <th>open_rv_12m</th>\n",
       "      <td>39717</td>\n",
       "      <td>100.000000</td>\n",
       "    </tr>\n",
       "    <tr>\n",
       "      <th>open_rv_24m</th>\n",
       "      <td>39717</td>\n",
       "      <td>100.000000</td>\n",
       "    </tr>\n",
       "    <tr>\n",
       "      <th>max_bal_bc</th>\n",
       "      <td>39717</td>\n",
       "      <td>100.000000</td>\n",
       "    </tr>\n",
       "    <tr>\n",
       "      <th>all_util</th>\n",
       "      <td>39717</td>\n",
       "      <td>100.000000</td>\n",
       "    </tr>\n",
       "    <tr>\n",
       "      <th>total_rev_hi_lim</th>\n",
       "      <td>39717</td>\n",
       "      <td>100.000000</td>\n",
       "    </tr>\n",
       "    <tr>\n",
       "      <th>inq_fi</th>\n",
       "      <td>39717</td>\n",
       "      <td>100.000000</td>\n",
       "    </tr>\n",
       "    <tr>\n",
       "      <th>total_cu_tl</th>\n",
       "      <td>39717</td>\n",
       "      <td>100.000000</td>\n",
       "    </tr>\n",
       "    <tr>\n",
       "      <th>il_util</th>\n",
       "      <td>39717</td>\n",
       "      <td>100.000000</td>\n",
       "    </tr>\n",
       "    <tr>\n",
       "      <th>next_pymnt_d</th>\n",
       "      <td>38577</td>\n",
       "      <td>97.129693</td>\n",
       "    </tr>\n",
       "    <tr>\n",
       "      <th>mths_since_last_record</th>\n",
       "      <td>36931</td>\n",
       "      <td>92.985372</td>\n",
       "    </tr>\n",
       "    <tr>\n",
       "      <th>mths_since_last_delinq</th>\n",
       "      <td>25682</td>\n",
       "      <td>64.662487</td>\n",
       "    </tr>\n",
       "    <tr>\n",
       "      <th>desc</th>\n",
       "      <td>12940</td>\n",
       "      <td>32.580507</td>\n",
       "    </tr>\n",
       "    <tr>\n",
       "      <th>emp_title</th>\n",
       "      <td>2459</td>\n",
       "      <td>6.191303</td>\n",
       "    </tr>\n",
       "    <tr>\n",
       "      <th>emp_length</th>\n",
       "      <td>1075</td>\n",
       "      <td>2.706650</td>\n",
       "    </tr>\n",
       "    <tr>\n",
       "      <th>pub_rec_bankruptcies</th>\n",
       "      <td>697</td>\n",
       "      <td>1.754916</td>\n",
       "    </tr>\n",
       "    <tr>\n",
       "      <th>last_pymnt_d</th>\n",
       "      <td>71</td>\n",
       "      <td>0.178765</td>\n",
       "    </tr>\n",
       "    <tr>\n",
       "      <th>chargeoff_within_12_mths</th>\n",
       "      <td>56</td>\n",
       "      <td>0.140998</td>\n",
       "    </tr>\n",
       "    <tr>\n",
       "      <th>collections_12_mths_ex_med</th>\n",
       "      <td>56</td>\n",
       "      <td>0.140998</td>\n",
       "    </tr>\n",
       "    <tr>\n",
       "      <th>revol_util</th>\n",
       "      <td>50</td>\n",
       "      <td>0.125891</td>\n",
       "    </tr>\n",
       "    <tr>\n",
       "      <th>tax_liens</th>\n",
       "      <td>39</td>\n",
       "      <td>0.098195</td>\n",
       "    </tr>\n",
       "    <tr>\n",
       "      <th>title</th>\n",
       "      <td>11</td>\n",
       "      <td>0.027696</td>\n",
       "    </tr>\n",
       "    <tr>\n",
       "      <th>last_credit_pull_d</th>\n",
       "      <td>2</td>\n",
       "      <td>0.005036</td>\n",
       "    </tr>\n",
       "  </tbody>\n",
       "</table>\n",
       "</div>"
      ],
      "text/plain": [
       "                                count_of_null_values  percentage\n",
       "bc_open_to_buy                                 39717  100.000000\n",
       "acc_open_past_24mths                           39717  100.000000\n",
       "bc_util                                        39717  100.000000\n",
       "mo_sin_old_il_acct                             39717  100.000000\n",
       "mo_sin_old_rev_tl_op                           39717  100.000000\n",
       "mo_sin_rcnt_rev_tl_op                          39717  100.000000\n",
       "mo_sin_rcnt_tl                                 39717  100.000000\n",
       "mort_acc                                       39717  100.000000\n",
       "mths_since_recent_bc                           39717  100.000000\n",
       "mths_since_recent_bc_dlq                       39717  100.000000\n",
       "mths_since_recent_inq                          39717  100.000000\n",
       "mths_since_recent_revol_delinq                 39717  100.000000\n",
       "num_accts_ever_120_pd                          39717  100.000000\n",
       "num_actv_bc_tl                                 39717  100.000000\n",
       "num_actv_rev_tl                                39717  100.000000\n",
       "num_bc_sats                                    39717  100.000000\n",
       "num_bc_tl                                      39717  100.000000\n",
       "num_il_tl                                      39717  100.000000\n",
       "num_op_rev_tl                                  39717  100.000000\n",
       "num_rev_accts                                  39717  100.000000\n",
       "num_rev_tl_bal_gt_0                            39717  100.000000\n",
       "num_sats                                       39717  100.000000\n",
       "num_tl_120dpd_2m                               39717  100.000000\n",
       "num_tl_30dpd                                   39717  100.000000\n",
       "num_tl_90g_dpd_24m                             39717  100.000000\n",
       "num_tl_op_past_12m                             39717  100.000000\n",
       "pct_tl_nvr_dlq                                 39717  100.000000\n",
       "percent_bc_gt_75                               39717  100.000000\n",
       "tot_hi_cred_lim                                39717  100.000000\n",
       "total_bal_ex_mort                              39717  100.000000\n",
       "total_bc_limit                                 39717  100.000000\n",
       "avg_cur_bal                                    39717  100.000000\n",
       "total_il_high_credit_limit                     39717  100.000000\n",
       "inq_last_12m                                   39717  100.000000\n",
       "mths_since_rcnt_il                             39717  100.000000\n",
       "mths_since_last_major_derog                    39717  100.000000\n",
       "annual_inc_joint                               39717  100.000000\n",
       "dti_joint                                      39717  100.000000\n",
       "verification_status_joint                      39717  100.000000\n",
       "tot_coll_amt                                   39717  100.000000\n",
       "open_acc_6m                                    39717  100.000000\n",
       "open_il_6m                                     39717  100.000000\n",
       "open_il_12m                                    39717  100.000000\n",
       "open_il_24m                                    39717  100.000000\n",
       "tot_cur_bal                                    39717  100.000000\n",
       "total_bal_il                                   39717  100.000000\n",
       "open_rv_12m                                    39717  100.000000\n",
       "open_rv_24m                                    39717  100.000000\n",
       "max_bal_bc                                     39717  100.000000\n",
       "all_util                                       39717  100.000000\n",
       "total_rev_hi_lim                               39717  100.000000\n",
       "inq_fi                                         39717  100.000000\n",
       "total_cu_tl                                    39717  100.000000\n",
       "il_util                                        39717  100.000000\n",
       "next_pymnt_d                                   38577   97.129693\n",
       "mths_since_last_record                         36931   92.985372\n",
       "mths_since_last_delinq                         25682   64.662487\n",
       "desc                                           12940   32.580507\n",
       "emp_title                                       2459    6.191303\n",
       "emp_length                                      1075    2.706650\n",
       "pub_rec_bankruptcies                             697    1.754916\n",
       "last_pymnt_d                                      71    0.178765\n",
       "chargeoff_within_12_mths                          56    0.140998\n",
       "collections_12_mths_ex_med                        56    0.140998\n",
       "revol_util                                        50    0.125891\n",
       "tax_liens                                         39    0.098195\n",
       "title                                             11    0.027696\n",
       "last_credit_pull_d                                 2    0.005036"
      ]
     },
     "execution_count": 7,
     "metadata": {},
     "output_type": "execute_result"
    }
   ],
   "source": [
    "null_value_counts = pd.DataFrame(df.isnull().sum())\n",
    "null_value_counts.columns = ['count_of_null_values']\n",
    "null_value_counts['percentage'] = (null_value_counts['count_of_null_values']/df.shape[0])*100\n",
    "null_value_counts[null_value_counts['count_of_null_values']>0].sort_values(by='percentage', ascending=False).head(68)"
   ]
  },
  {
   "cell_type": "markdown",
   "id": "ae60c881",
   "metadata": {},
   "source": [
    "### Observation"
   ]
  },
  {
   "cell_type": "markdown",
   "id": "91daae94",
   "metadata": {},
   "source": [
    "- There are many variables with 100% of the values as null. We need to remove these variables.\n",
    "- Also, the columns with more than 50% null values also need to be removed as we cannot impute so many values."
   ]
  },
  {
   "cell_type": "code",
   "execution_count": 10,
   "id": "e3fd079b",
   "metadata": {},
   "outputs": [
    {
     "data": {
      "text/plain": [
       "54"
      ]
     },
     "execution_count": 10,
     "metadata": {},
     "output_type": "execute_result"
    }
   ],
   "source": [
    "null_value_counts[null_value_counts['percentage']==100].shape[0]"
   ]
  },
  {
   "cell_type": "markdown",
   "id": "23f09d4c",
   "metadata": {},
   "source": [
    "- There are 54 columns where all the values are null."
   ]
  },
  {
   "cell_type": "code",
   "execution_count": 11,
   "id": "906fcba8",
   "metadata": {},
   "outputs": [
    {
     "data": {
      "text/plain": [
       "3"
      ]
     },
     "execution_count": 11,
     "metadata": {},
     "output_type": "execute_result"
    }
   ],
   "source": [
    "null_value_counts[(null_value_counts['percentage']>50)&(null_value_counts['percentage']<100)].shape[0]"
   ]
  },
  {
   "cell_type": "markdown",
   "id": "f1c5e1e5",
   "metadata": {},
   "source": [
    "There are 3 columns where null values consititute more than 50% of the column values."
   ]
  },
  {
   "cell_type": "markdown",
   "id": "6e9558e8",
   "metadata": {},
   "source": [
    "Removing the columns with high null value count\n"
   ]
  },
  {
   "cell_type": "code",
   "execution_count": 12,
   "id": "b2d884a4",
   "metadata": {},
   "outputs": [
    {
     "data": {
      "text/plain": [
       "(39717, 54)"
      ]
     },
     "execution_count": 12,
     "metadata": {},
     "output_type": "execute_result"
    }
   ],
   "source": [
    "null_column_list = list(null_value_counts[null_value_counts['percentage']>50].index)\n",
    "filtered_null_columns_df = df.drop(null_column_list, axis=1)\n",
    "filtered_null_columns_df.shape"
   ]
  },
  {
   "cell_type": "markdown",
   "id": "da774ceb",
   "metadata": {},
   "source": [
    "After removing the columns with high null value count, we have 54 columns that need to be analysed"
   ]
  },
  {
   "cell_type": "markdown",
   "id": "fea5d12a",
   "metadata": {},
   "source": [
    "### Inspecting few columns values"
   ]
  },
  {
   "cell_type": "code",
   "execution_count": 13,
   "id": "aeb5fb69",
   "metadata": {},
   "outputs": [
    {
     "data": {
      "text/plain": [
       "0    39717\n",
       "Name: delinq_amnt, dtype: int64"
      ]
     },
     "execution_count": 13,
     "metadata": {},
     "output_type": "execute_result"
    }
   ],
   "source": [
    "filtered_null_columns_df.delinq_amnt.value_counts()\n"
   ]
  },
  {
   "cell_type": "code",
   "execution_count": 14,
   "id": "e7803ff6",
   "metadata": {},
   "outputs": [
    {
     "data": {
      "text/plain": [
       "0.0    39678\n",
       "Name: tax_liens, dtype: int64"
      ]
     },
     "execution_count": 14,
     "metadata": {},
     "output_type": "execute_result"
    }
   ],
   "source": [
    "filtered_null_columns_df.tax_liens.value_counts()\n"
   ]
  },
  {
   "cell_type": "markdown",
   "id": "287927a9",
   "metadata": {},
   "source": [
    "- As we can see, there are few columns which have only 1 distinct value. We need to check how many such columns are there in the dataset and remove them as they do not add value to the analysis."
   ]
  },
  {
   "cell_type": "markdown",
   "id": "6893a555",
   "metadata": {},
   "source": [
    "#### Number of columns with one value in the entire column\n"
   ]
  },
  {
   "cell_type": "code",
   "execution_count": 16,
   "id": "096c9bf1",
   "metadata": {},
   "outputs": [],
   "source": [
    "unique_value_counts = pd.Series()\n",
    "for col in filtered_null_columns_df.columns:\n",
    "    unique_count = filtered_null_columns_df[col].nunique()\n",
    "    unique_value_counts[col] = unique_count"
   ]
  },
  {
   "cell_type": "code",
   "execution_count": 17,
   "id": "041699a2",
   "metadata": {},
   "outputs": [
    {
     "data": {
      "text/plain": [
       "pymnt_plan                    1\n",
       "initial_list_status           1\n",
       "collections_12_mths_ex_med    1\n",
       "policy_code                   1\n",
       "application_type              1\n",
       "acc_now_delinq                1\n",
       "chargeoff_within_12_mths      1\n",
       "delinq_amnt                   1\n",
       "tax_liens                     1\n",
       "dtype: int64"
      ]
     },
     "execution_count": 17,
     "metadata": {},
     "output_type": "execute_result"
    }
   ],
   "source": [
    "unique_value_counts[unique_value_counts==1]"
   ]
  },
  {
   "cell_type": "markdown",
   "id": "254a0ff7",
   "metadata": {},
   "source": [
    "As we can see that there are 9 columns with only 1 unique value. These columns are to be removed as they will not add any value to our analysis"
   ]
  },
  {
   "cell_type": "code",
   "execution_count": 18,
   "id": "472fd60b",
   "metadata": {},
   "outputs": [],
   "source": [
    "single_unique_value_column_list = list(unique_value_counts[unique_value_counts==1].index)"
   ]
  },
  {
   "cell_type": "code",
   "execution_count": 19,
   "id": "6684936e",
   "metadata": {},
   "outputs": [],
   "source": [
    "filtered_null_columns_df.drop(single_unique_value_column_list, axis=1, inplace=True)"
   ]
  },
  {
   "cell_type": "code",
   "execution_count": 20,
   "id": "d3341d49",
   "metadata": {},
   "outputs": [
    {
     "data": {
      "text/plain": [
       "Index(['id', 'member_id', 'loan_amnt', 'funded_amnt', 'funded_amnt_inv',\n",
       "       'term', 'int_rate', 'installment', 'grade', 'sub_grade', 'emp_title',\n",
       "       'emp_length', 'home_ownership', 'annual_inc', 'verification_status',\n",
       "       'issue_d', 'loan_status', 'url', 'desc', 'purpose', 'title', 'zip_code',\n",
       "       'addr_state', 'dti', 'delinq_2yrs', 'earliest_cr_line',\n",
       "       'inq_last_6mths', 'open_acc', 'pub_rec', 'revol_bal', 'revol_util',\n",
       "       'total_acc', 'out_prncp', 'out_prncp_inv', 'total_pymnt',\n",
       "       'total_pymnt_inv', 'total_rec_prncp', 'total_rec_int',\n",
       "       'total_rec_late_fee', 'recoveries', 'collection_recovery_fee',\n",
       "       'last_pymnt_d', 'last_pymnt_amnt', 'last_credit_pull_d',\n",
       "       'pub_rec_bankruptcies'],\n",
       "      dtype='object')"
      ]
     },
     "execution_count": 20,
     "metadata": {},
     "output_type": "execute_result"
    }
   ],
   "source": [
    "filtered_null_columns_df.columns"
   ]
  },
  {
   "cell_type": "markdown",
   "id": "27d693eb",
   "metadata": {},
   "source": [
    "### Inspecting columns and their significance.\n"
   ]
  },
  {
   "cell_type": "markdown",
   "id": "5ef1c100",
   "metadata": {},
   "source": [
    "In the above list of columns, one of the important columns is 'last_credit_pull_date'. This is the date when the credit bureau record was pulled by the lending institution. It contains the historical credit data of the customer. Based on the information provided in the credit bureau data, the decision to disburse a loan is made.\n",
    "It is important to note that, the credit_pull_date and disbursal date should be close. If they are not close, then the data cannot be considered for analysis purposes as this data may not have been used for making the decision to lend to the customer"
   ]
  },
  {
   "cell_type": "code",
   "execution_count": 21,
   "id": "881a8d26",
   "metadata": {},
   "outputs": [
    {
     "data": {
      "text/html": [
       "<div>\n",
       "<style scoped>\n",
       "    .dataframe tbody tr th:only-of-type {\n",
       "        vertical-align: middle;\n",
       "    }\n",
       "\n",
       "    .dataframe tbody tr th {\n",
       "        vertical-align: top;\n",
       "    }\n",
       "\n",
       "    .dataframe thead th {\n",
       "        text-align: right;\n",
       "    }\n",
       "</style>\n",
       "<table border=\"1\" class=\"dataframe\">\n",
       "  <thead>\n",
       "    <tr style=\"text-align: right;\">\n",
       "      <th></th>\n",
       "      <th>id</th>\n",
       "      <th>last_credit_pull_d</th>\n",
       "      <th>issue_d</th>\n",
       "    </tr>\n",
       "  </thead>\n",
       "  <tbody>\n",
       "    <tr>\n",
       "      <th>0</th>\n",
       "      <td>1077501</td>\n",
       "      <td>May-16</td>\n",
       "      <td>Dec-11</td>\n",
       "    </tr>\n",
       "    <tr>\n",
       "      <th>1</th>\n",
       "      <td>1077430</td>\n",
       "      <td>Sep-13</td>\n",
       "      <td>Dec-11</td>\n",
       "    </tr>\n",
       "    <tr>\n",
       "      <th>2</th>\n",
       "      <td>1077175</td>\n",
       "      <td>May-16</td>\n",
       "      <td>Dec-11</td>\n",
       "    </tr>\n",
       "    <tr>\n",
       "      <th>3</th>\n",
       "      <td>1076863</td>\n",
       "      <td>Apr-16</td>\n",
       "      <td>Dec-11</td>\n",
       "    </tr>\n",
       "    <tr>\n",
       "      <th>4</th>\n",
       "      <td>1075358</td>\n",
       "      <td>May-16</td>\n",
       "      <td>Dec-11</td>\n",
       "    </tr>\n",
       "  </tbody>\n",
       "</table>\n",
       "</div>"
      ],
      "text/plain": [
       "        id last_credit_pull_d issue_d\n",
       "0  1077501             May-16  Dec-11\n",
       "1  1077430             Sep-13  Dec-11\n",
       "2  1077175             May-16  Dec-11\n",
       "3  1076863             Apr-16  Dec-11\n",
       "4  1075358             May-16  Dec-11"
      ]
     },
     "execution_count": 21,
     "metadata": {},
     "output_type": "execute_result"
    }
   ],
   "source": [
    "filtered_null_columns_df[['id', 'last_credit_pull_d', 'issue_d']].head()"
   ]
  },
  {
   "cell_type": "markdown",
   "id": "87d613de",
   "metadata": {},
   "source": [
    "- As we can see that the 2 dates are not close to each other, hence the credit bureau data provided in the dataset, which provide customer behavioural information, cannot be used for analysis.\n",
    "\n",
    "- There are a few columns in the dataset, that are a part of credit bureau information. We need to remove these\n",
    "\n",
    "- Hence, the columns that will be removed are :- 'delinq_2yrs', 'earliest_cr_line','inq_last_6mths', 'open_acc', 'pub_rec', 'revol_bal', 'revol_util','total_acc', 'out_prncp', 'out_prncp_inv', 'total_pymnt','total_pymnt_inv', 'total_rec_prncp', 'total_rec_int','total_rec_late_fee', 'recoveries', 'collection_recovery_fee','last_pymnt_d', 'last_pymnt_amnt', 'last_credit_pull_d',"
   ]
  },
  {
   "cell_type": "code",
   "execution_count": 22,
   "id": "aa0e4941",
   "metadata": {},
   "outputs": [],
   "source": [
    "credit_info_columns = ['delinq_2yrs', 'earliest_cr_line','inq_last_6mths', 'open_acc', 'pub_rec', 'revol_bal', 'revol_util',\n",
    "                       'total_acc', 'out_prncp', 'out_prncp_inv', 'total_pymnt','total_pymnt_inv', 'total_rec_prncp',\n",
    "                       'total_rec_int','total_rec_late_fee', 'recoveries', 'collection_recovery_fee','last_pymnt_d', \n",
    "                       'last_pymnt_amnt', 'last_credit_pull_d']"
   ]
  },
  {
   "cell_type": "code",
   "execution_count": 23,
   "id": "0687c7b5",
   "metadata": {},
   "outputs": [],
   "source": [
    "filtered_null_columns_df.drop(credit_info_columns, axis=1, inplace=True)"
   ]
  },
  {
   "cell_type": "code",
   "execution_count": 24,
   "id": "f7063497",
   "metadata": {},
   "outputs": [
    {
     "data": {
      "text/plain": [
       "Index(['id', 'member_id', 'loan_amnt', 'funded_amnt', 'funded_amnt_inv',\n",
       "       'term', 'int_rate', 'installment', 'grade', 'sub_grade', 'emp_title',\n",
       "       'emp_length', 'home_ownership', 'annual_inc', 'verification_status',\n",
       "       'issue_d', 'loan_status', 'url', 'desc', 'purpose', 'title', 'zip_code',\n",
       "       'addr_state', 'dti', 'pub_rec_bankruptcies'],\n",
       "      dtype='object')"
      ]
     },
     "execution_count": 24,
     "metadata": {},
     "output_type": "execute_result"
    }
   ],
   "source": [
    "filtered_null_columns_df.columns"
   ]
  },
  {
   "cell_type": "markdown",
   "id": "8969a5e8",
   "metadata": {},
   "source": [
    "#### Inspecting the remaining columns\n"
   ]
  },
  {
   "cell_type": "code",
   "execution_count": 26,
   "id": "dbdb5414",
   "metadata": {},
   "outputs": [
    {
     "data": {
      "text/plain": [
       "39717"
      ]
     },
     "execution_count": 26,
     "metadata": {},
     "output_type": "execute_result"
    }
   ],
   "source": [
    "filtered_null_columns_df.member_id.nunique()"
   ]
  },
  {
   "cell_type": "code",
   "execution_count": 27,
   "id": "f8033dcf",
   "metadata": {},
   "outputs": [
    {
     "data": {
      "text/html": [
       "<div>\n",
       "<style scoped>\n",
       "    .dataframe tbody tr th:only-of-type {\n",
       "        vertical-align: middle;\n",
       "    }\n",
       "\n",
       "    .dataframe tbody tr th {\n",
       "        vertical-align: top;\n",
       "    }\n",
       "\n",
       "    .dataframe thead th {\n",
       "        text-align: right;\n",
       "    }\n",
       "</style>\n",
       "<table border=\"1\" class=\"dataframe\">\n",
       "  <thead>\n",
       "    <tr style=\"text-align: right;\">\n",
       "      <th></th>\n",
       "      <th>id</th>\n",
       "      <th>member_id</th>\n",
       "      <th>url</th>\n",
       "    </tr>\n",
       "  </thead>\n",
       "  <tbody>\n",
       "    <tr>\n",
       "      <th>0</th>\n",
       "      <td>1077501</td>\n",
       "      <td>1296599</td>\n",
       "      <td>https://lendingclub.com/browse/loanDetail.action?loan_id=1077501</td>\n",
       "    </tr>\n",
       "    <tr>\n",
       "      <th>1</th>\n",
       "      <td>1077430</td>\n",
       "      <td>1314167</td>\n",
       "      <td>https://lendingclub.com/browse/loanDetail.action?loan_id=1077430</td>\n",
       "    </tr>\n",
       "    <tr>\n",
       "      <th>2</th>\n",
       "      <td>1077175</td>\n",
       "      <td>1313524</td>\n",
       "      <td>https://lendingclub.com/browse/loanDetail.action?loan_id=1077175</td>\n",
       "    </tr>\n",
       "    <tr>\n",
       "      <th>3</th>\n",
       "      <td>1076863</td>\n",
       "      <td>1277178</td>\n",
       "      <td>https://lendingclub.com/browse/loanDetail.action?loan_id=1076863</td>\n",
       "    </tr>\n",
       "    <tr>\n",
       "      <th>4</th>\n",
       "      <td>1075358</td>\n",
       "      <td>1311748</td>\n",
       "      <td>https://lendingclub.com/browse/loanDetail.action?loan_id=1075358</td>\n",
       "    </tr>\n",
       "  </tbody>\n",
       "</table>\n",
       "</div>"
      ],
      "text/plain": [
       "        id  member_id  \\\n",
       "0  1077501    1296599   \n",
       "1  1077430    1314167   \n",
       "2  1077175    1313524   \n",
       "3  1076863    1277178   \n",
       "4  1075358    1311748   \n",
       "\n",
       "                                                                url  \n",
       "0  https://lendingclub.com/browse/loanDetail.action?loan_id=1077501  \n",
       "1  https://lendingclub.com/browse/loanDetail.action?loan_id=1077430  \n",
       "2  https://lendingclub.com/browse/loanDetail.action?loan_id=1077175  \n",
       "3  https://lendingclub.com/browse/loanDetail.action?loan_id=1076863  \n",
       "4  https://lendingclub.com/browse/loanDetail.action?loan_id=1075358  "
      ]
     },
     "execution_count": 27,
     "metadata": {},
     "output_type": "execute_result"
    }
   ],
   "source": [
    "filtered_null_columns_df[['id','member_id','url']].head()"
   ]
  },
  {
   "cell_type": "markdown",
   "id": "b62fe591",
   "metadata": {},
   "source": [
    "- As we can see that member_id is a column with a unique number for every column. As id columns is already present as a unique identifier, we can drop the column member_id\n",
    "- Also, the url column has been used to extract the values in id column. We can not extract any more information from the column, hence we can drop these columns"
   ]
  },
  {
   "cell_type": "code",
   "execution_count": 28,
   "id": "bcfada3b",
   "metadata": {},
   "outputs": [
    {
     "data": {
      "text/html": [
       "<div>\n",
       "<style scoped>\n",
       "    .dataframe tbody tr th:only-of-type {\n",
       "        vertical-align: middle;\n",
       "    }\n",
       "\n",
       "    .dataframe tbody tr th {\n",
       "        vertical-align: top;\n",
       "    }\n",
       "\n",
       "    .dataframe thead th {\n",
       "        text-align: right;\n",
       "    }\n",
       "</style>\n",
       "<table border=\"1\" class=\"dataframe\">\n",
       "  <thead>\n",
       "    <tr style=\"text-align: right;\">\n",
       "      <th></th>\n",
       "      <th>id</th>\n",
       "      <th>title</th>\n",
       "      <th>purpose</th>\n",
       "    </tr>\n",
       "  </thead>\n",
       "  <tbody>\n",
       "    <tr>\n",
       "      <th>0</th>\n",
       "      <td>1077501</td>\n",
       "      <td>Computer</td>\n",
       "      <td>credit_card</td>\n",
       "    </tr>\n",
       "    <tr>\n",
       "      <th>1</th>\n",
       "      <td>1077430</td>\n",
       "      <td>bike</td>\n",
       "      <td>car</td>\n",
       "    </tr>\n",
       "    <tr>\n",
       "      <th>2</th>\n",
       "      <td>1077175</td>\n",
       "      <td>real estate business</td>\n",
       "      <td>small_business</td>\n",
       "    </tr>\n",
       "    <tr>\n",
       "      <th>3</th>\n",
       "      <td>1076863</td>\n",
       "      <td>personel</td>\n",
       "      <td>other</td>\n",
       "    </tr>\n",
       "    <tr>\n",
       "      <th>4</th>\n",
       "      <td>1075358</td>\n",
       "      <td>Personal</td>\n",
       "      <td>other</td>\n",
       "    </tr>\n",
       "    <tr>\n",
       "      <th>5</th>\n",
       "      <td>1075269</td>\n",
       "      <td>My wedding loan I promise to pay back</td>\n",
       "      <td>wedding</td>\n",
       "    </tr>\n",
       "    <tr>\n",
       "      <th>6</th>\n",
       "      <td>1069639</td>\n",
       "      <td>Loan</td>\n",
       "      <td>debt_consolidation</td>\n",
       "    </tr>\n",
       "    <tr>\n",
       "      <th>7</th>\n",
       "      <td>1072053</td>\n",
       "      <td>Car Downpayment</td>\n",
       "      <td>car</td>\n",
       "    </tr>\n",
       "    <tr>\n",
       "      <th>8</th>\n",
       "      <td>1071795</td>\n",
       "      <td>Expand Business &amp; Buy Debt Portfolio</td>\n",
       "      <td>small_business</td>\n",
       "    </tr>\n",
       "    <tr>\n",
       "      <th>9</th>\n",
       "      <td>1071570</td>\n",
       "      <td>Building my credit history.</td>\n",
       "      <td>other</td>\n",
       "    </tr>\n",
       "    <tr>\n",
       "      <th>10</th>\n",
       "      <td>1070078</td>\n",
       "      <td>High intrest Consolidation</td>\n",
       "      <td>debt_consolidation</td>\n",
       "    </tr>\n",
       "    <tr>\n",
       "      <th>11</th>\n",
       "      <td>1069908</td>\n",
       "      <td>Consolidation</td>\n",
       "      <td>debt_consolidation</td>\n",
       "    </tr>\n",
       "    <tr>\n",
       "      <th>12</th>\n",
       "      <td>1064687</td>\n",
       "      <td>freedom</td>\n",
       "      <td>debt_consolidation</td>\n",
       "    </tr>\n",
       "    <tr>\n",
       "      <th>13</th>\n",
       "      <td>1069866</td>\n",
       "      <td>citicard fund</td>\n",
       "      <td>credit_card</td>\n",
       "    </tr>\n",
       "    <tr>\n",
       "      <th>14</th>\n",
       "      <td>1069057</td>\n",
       "      <td>Other Loan</td>\n",
       "      <td>other</td>\n",
       "    </tr>\n",
       "  </tbody>\n",
       "</table>\n",
       "</div>"
      ],
      "text/plain": [
       "         id                                  title             purpose\n",
       "0   1077501                               Computer         credit_card\n",
       "1   1077430                                   bike                 car\n",
       "2   1077175                   real estate business      small_business\n",
       "3   1076863                               personel               other\n",
       "4   1075358                               Personal               other\n",
       "5   1075269  My wedding loan I promise to pay back             wedding\n",
       "6   1069639                                   Loan  debt_consolidation\n",
       "7   1072053                        Car Downpayment                 car\n",
       "8   1071795   Expand Business & Buy Debt Portfolio      small_business\n",
       "9   1071570            Building my credit history.               other\n",
       "10  1070078             High intrest Consolidation  debt_consolidation\n",
       "11  1069908                          Consolidation  debt_consolidation\n",
       "12  1064687                                freedom  debt_consolidation\n",
       "13  1069866                          citicard fund         credit_card\n",
       "14  1069057                             Other Loan               other"
      ]
     },
     "execution_count": 28,
     "metadata": {},
     "output_type": "execute_result"
    }
   ],
   "source": [
    "filtered_null_columns_df[['id','title', 'purpose']].head(15)"
   ]
  },
  {
   "cell_type": "code",
   "execution_count": 29,
   "id": "12ba857f",
   "metadata": {},
   "outputs": [
    {
     "data": {
      "text/plain": [
       "19615"
      ]
     },
     "execution_count": 29,
     "metadata": {},
     "output_type": "execute_result"
    }
   ],
   "source": [
    "filtered_null_columns_df.title.nunique()"
   ]
  },
  {
   "cell_type": "code",
   "execution_count": 30,
   "id": "536f127b",
   "metadata": {},
   "outputs": [
    {
     "data": {
      "text/plain": [
       "14"
      ]
     },
     "execution_count": 30,
     "metadata": {},
     "output_type": "execute_result"
    }
   ],
   "source": [
    "filtered_null_columns_df.purpose.nunique()"
   ]
  },
  {
   "cell_type": "markdown",
   "id": "8ae6874c",
   "metadata": {},
   "source": [
    "- In the above blocks, we can see that the title of every data point has been mapped to one of the 14 different categories. Hence title column becomes redudant and can be removed\n"
   ]
  },
  {
   "cell_type": "code",
   "execution_count": 31,
   "id": "6a78b95f",
   "metadata": {},
   "outputs": [
    {
     "data": {
      "text/html": [
       "<div>\n",
       "<style scoped>\n",
       "    .dataframe tbody tr th:only-of-type {\n",
       "        vertical-align: middle;\n",
       "    }\n",
       "\n",
       "    .dataframe tbody tr th {\n",
       "        vertical-align: top;\n",
       "    }\n",
       "\n",
       "    .dataframe thead th {\n",
       "        text-align: right;\n",
       "    }\n",
       "</style>\n",
       "<table border=\"1\" class=\"dataframe\">\n",
       "  <thead>\n",
       "    <tr style=\"text-align: right;\">\n",
       "      <th></th>\n",
       "      <th>id</th>\n",
       "      <th>desc</th>\n",
       "      <th>purpose</th>\n",
       "    </tr>\n",
       "  </thead>\n",
       "  <tbody>\n",
       "    <tr>\n",
       "      <th>0</th>\n",
       "      <td>1077501</td>\n",
       "      <td>Borrower added on 12/22/11 &gt; I need to upgrade my business technologies.&lt;br&gt;</td>\n",
       "      <td>credit_card</td>\n",
       "    </tr>\n",
       "    <tr>\n",
       "      <th>1</th>\n",
       "      <td>1077430</td>\n",
       "      <td>Borrower added on 12/22/11 &gt; I plan to use this money to finance the motorcycle i am looking at. I plan to have it paid off as soon as possible/when i sell my old bike. I only need this money because the deal im looking at is to good to pass up.&lt;br&gt;&lt;br&gt;  Borrower added on 12/22/11 &gt; I plan to use this money to finance the motorcycle i am looking at. I plan to have it paid off as soon as possible/when i sell my old bike.I only need this money because the deal im looking at is to good to pass up. I have finished college with an associates degree in business and its takingmeplaces&lt;br&gt;</td>\n",
       "      <td>car</td>\n",
       "    </tr>\n",
       "    <tr>\n",
       "      <th>2</th>\n",
       "      <td>1077175</td>\n",
       "      <td>NaN</td>\n",
       "      <td>small_business</td>\n",
       "    </tr>\n",
       "    <tr>\n",
       "      <th>3</th>\n",
       "      <td>1076863</td>\n",
       "      <td>Borrower added on 12/21/11 &gt; to pay for property tax (borrow from friend, need to pay back) &amp; central A/C need to be replace. I'm very sorry to let my loan expired last time.&lt;br&gt;</td>\n",
       "      <td>other</td>\n",
       "    </tr>\n",
       "    <tr>\n",
       "      <th>4</th>\n",
       "      <td>1075358</td>\n",
       "      <td>Borrower added on 12/21/11 &gt; I plan on combining three large interest bills together and freeing up some extra each month to pay toward other bills.  I've always been a good payor but have found myself needing to make adjustments to my budget due to a medical scare. My job is very stable, I love it.&lt;br&gt;</td>\n",
       "      <td>other</td>\n",
       "    </tr>\n",
       "    <tr>\n",
       "      <th>5</th>\n",
       "      <td>1075269</td>\n",
       "      <td>NaN</td>\n",
       "      <td>wedding</td>\n",
       "    </tr>\n",
       "    <tr>\n",
       "      <th>6</th>\n",
       "      <td>1069639</td>\n",
       "      <td>Borrower added on 12/18/11 &gt; I am planning on using the funds to pay off two retail credit cards with 24.99% interest rates, as well as a major bank credit card with a 18.99% rate.  I pay all my bills on time, looking for a lower combined payment and lower monthly payment.&lt;br&gt;</td>\n",
       "      <td>debt_consolidation</td>\n",
       "    </tr>\n",
       "    <tr>\n",
       "      <th>7</th>\n",
       "      <td>1072053</td>\n",
       "      <td>Borrower added on 12/16/11 &gt; Downpayment for a car.&lt;br&gt;</td>\n",
       "      <td>car</td>\n",
       "    </tr>\n",
       "    <tr>\n",
       "      <th>8</th>\n",
       "      <td>1071795</td>\n",
       "      <td>Borrower added on 12/21/11 &gt; I own a small home-based judgment collection business. I have 5 years experience collecting debts. I am now going from a home office to a small office. I also plan to buy a small debt portfolio (eg. $10K for $1M of debt) &lt;br&gt;My score is not A+ because I own my home and have no mortgage.&lt;br&gt;</td>\n",
       "      <td>small_business</td>\n",
       "    </tr>\n",
       "    <tr>\n",
       "      <th>9</th>\n",
       "      <td>1071570</td>\n",
       "      <td>Borrower added on 12/16/11 &gt; I'm trying to build up my credit history. I live with my brother and have no car payment or credit cards. I am in community college and work full time. Im going to use the money to make some repairs around the house and get some maintenance done on my car.&lt;br&gt;&lt;br&gt;  Borrower added on 12/20/11 &gt; $1000 down only $4375 to go. Thanks to everyone that invested so far, looking forward to surprising my brother with the fixes around the house.&lt;br&gt;</td>\n",
       "      <td>other</td>\n",
       "    </tr>\n",
       "  </tbody>\n",
       "</table>\n",
       "</div>"
      ],
      "text/plain": [
       "        id  \\\n",
       "0  1077501   \n",
       "1  1077430   \n",
       "2  1077175   \n",
       "3  1076863   \n",
       "4  1075358   \n",
       "5  1075269   \n",
       "6  1069639   \n",
       "7  1072053   \n",
       "8  1071795   \n",
       "9  1071570   \n",
       "\n",
       "                                                                                                                                                                                                                                                                                                                                                                                                                                                                                                                                                                                                             desc  \\\n",
       "0                                                                                                                                                                                                                                                                                                                                                                                                                                                                                                                                    Borrower added on 12/22/11 > I need to upgrade my business technologies.<br>   \n",
       "1    Borrower added on 12/22/11 > I plan to use this money to finance the motorcycle i am looking at. I plan to have it paid off as soon as possible/when i sell my old bike. I only need this money because the deal im looking at is to good to pass up.<br><br>  Borrower added on 12/22/11 > I plan to use this money to finance the motorcycle i am looking at. I plan to have it paid off as soon as possible/when i sell my old bike.I only need this money because the deal im looking at is to good to pass up. I have finished college with an associates degree in business and its takingmeplaces<br>   \n",
       "2                                                                                                                                                                                                                                                                                                                                                                                                                                                                                                                                                                                                             NaN   \n",
       "3                                                                                                                                                                                                                                                                                                                                                                                                                              Borrower added on 12/21/11 > to pay for property tax (borrow from friend, need to pay back) & central A/C need to be replace. I'm very sorry to let my loan expired last time.<br>   \n",
       "4                                                                                                                                                                                                                                                                                                Borrower added on 12/21/11 > I plan on combining three large interest bills together and freeing up some extra each month to pay toward other bills.  I've always been a good payor but have found myself needing to make adjustments to my budget due to a medical scare. My job is very stable, I love it.<br>   \n",
       "5                                                                                                                                                                                                                                                                                                                                                                                                                                                                                                                                                                                                             NaN   \n",
       "6                                                                                                                                                                                                                                                                                                                           Borrower added on 12/18/11 > I am planning on using the funds to pay off two retail credit cards with 24.99% interest rates, as well as a major bank credit card with a 18.99% rate.  I pay all my bills on time, looking for a lower combined payment and lower monthly payment.<br>   \n",
       "7                                                                                                                                                                                                                                                                                                                                                                                                                                                                                                                                                         Borrower added on 12/16/11 > Downpayment for a car.<br>   \n",
       "8                                                                                                                                                                                                                                                                                Borrower added on 12/21/11 > I own a small home-based judgment collection business. I have 5 years experience collecting debts. I am now going from a home office to a small office. I also plan to buy a small debt portfolio (eg. $10K for $1M of debt) <br>My score is not A+ because I own my home and have no mortgage.<br>   \n",
       "9                                                                                                                         Borrower added on 12/16/11 > I'm trying to build up my credit history. I live with my brother and have no car payment or credit cards. I am in community college and work full time. Im going to use the money to make some repairs around the house and get some maintenance done on my car.<br><br>  Borrower added on 12/20/11 > $1000 down only $4375 to go. Thanks to everyone that invested so far, looking forward to surprising my brother with the fixes around the house.<br>   \n",
       "\n",
       "              purpose  \n",
       "0         credit_card  \n",
       "1                 car  \n",
       "2      small_business  \n",
       "3               other  \n",
       "4               other  \n",
       "5             wedding  \n",
       "6  debt_consolidation  \n",
       "7                 car  \n",
       "8      small_business  \n",
       "9               other  "
      ]
     },
     "execution_count": 31,
     "metadata": {},
     "output_type": "execute_result"
    }
   ],
   "source": [
    "filtered_null_columns_df[['id', 'desc', 'purpose']].head(10)"
   ]
  },
  {
   "cell_type": "markdown",
   "id": "c63f4bc6",
   "metadata": {},
   "source": [
    "As we can see, similar to the title column, the desc column informatino has been mapped into 14 categories in purpose column, hence we can drop this column\n",
    "\n"
   ]
  },
  {
   "cell_type": "code",
   "execution_count": 33,
   "id": "ec870096",
   "metadata": {},
   "outputs": [
    {
     "data": {
      "text/plain": [
       "823"
      ]
     },
     "execution_count": 33,
     "metadata": {},
     "output_type": "execute_result"
    }
   ],
   "source": [
    "filtered_null_columns_df.zip_code.nunique()"
   ]
  },
  {
   "cell_type": "code",
   "execution_count": 34,
   "id": "0b649619",
   "metadata": {},
   "outputs": [
    {
     "data": {
      "text/plain": [
       "50"
      ]
     },
     "execution_count": 34,
     "metadata": {},
     "output_type": "execute_result"
    }
   ],
   "source": [
    "filtered_null_columns_df.addr_state.nunique()"
   ]
  },
  {
   "cell_type": "markdown",
   "id": "2a47719f",
   "metadata": {},
   "source": [
    "As we can see, there are 823 unique values of zip_code. The number of data points is small to find insights from this column. Hence we are dropping this column for now\n",
    "\n"
   ]
  },
  {
   "cell_type": "code",
   "execution_count": 35,
   "id": "c37c9567",
   "metadata": {},
   "outputs": [
    {
     "data": {
      "text/plain": [
       "28820"
      ]
     },
     "execution_count": 35,
     "metadata": {},
     "output_type": "execute_result"
    }
   ],
   "source": [
    "filtered_null_columns_df.emp_title.nunique()"
   ]
  },
  {
   "cell_type": "code",
   "execution_count": 36,
   "id": "c311d309",
   "metadata": {},
   "outputs": [
    {
     "data": {
      "text/plain": [
       "0                          NaN\n",
       "1                        Ryder\n",
       "2                          NaN\n",
       "3          AIR RESOURCES BOARD\n",
       "4     University Medical Group\n",
       "5         Veolia Transportaton\n",
       "6    Southern Star Photography\n",
       "7              MKC Accounting \n",
       "8                          NaN\n",
       "9                    Starbucks\n",
       "Name: emp_title, dtype: object"
      ]
     },
     "execution_count": 36,
     "metadata": {},
     "output_type": "execute_result"
    }
   ],
   "source": [
    "filtered_null_columns_df.emp_title.head(10)"
   ]
  },
  {
   "cell_type": "markdown",
   "id": "f073dadb",
   "metadata": {},
   "source": [
    "Employment title may be unique to many organizations and the with the given information, hence we have 28820 unique values. It may be hard to map these into fewer categories with the given information. hence we are dropping this column"
   ]
  },
  {
   "cell_type": "markdown",
   "id": "ae674299",
   "metadata": {},
   "source": [
    "#### Removing the columns discussed above\n"
   ]
  },
  {
   "cell_type": "code",
   "execution_count": 37,
   "id": "cd14825a",
   "metadata": {},
   "outputs": [],
   "source": [
    "columns_to_drop = ['member_id','url', 'title', 'desc', 'zip_code','emp_title']"
   ]
  },
  {
   "cell_type": "code",
   "execution_count": 38,
   "id": "09a7aa91",
   "metadata": {},
   "outputs": [],
   "source": [
    "filtered_null_columns_df.drop(columns_to_drop, axis=1, inplace=True)"
   ]
  },
  {
   "cell_type": "code",
   "execution_count": 39,
   "id": "48478338",
   "metadata": {},
   "outputs": [
    {
     "data": {
      "text/plain": [
       "Index(['id', 'loan_amnt', 'funded_amnt', 'funded_amnt_inv', 'term', 'int_rate',\n",
       "       'installment', 'grade', 'sub_grade', 'emp_length', 'home_ownership',\n",
       "       'annual_inc', 'verification_status', 'issue_d', 'loan_status',\n",
       "       'purpose', 'addr_state', 'dti', 'pub_rec_bankruptcies'],\n",
       "      dtype='object')"
      ]
     },
     "execution_count": 39,
     "metadata": {},
     "output_type": "execute_result"
    }
   ],
   "source": [
    "filtered_null_columns_df.columns"
   ]
  },
  {
   "cell_type": "code",
   "execution_count": 40,
   "id": "9421219d",
   "metadata": {},
   "outputs": [
    {
     "name": "stdout",
     "output_type": "stream",
     "text": [
      "<class 'pandas.core.frame.DataFrame'>\n",
      "RangeIndex: 39717 entries, 0 to 39716\n",
      "Data columns (total 19 columns):\n",
      " #   Column                Non-Null Count  Dtype  \n",
      "---  ------                --------------  -----  \n",
      " 0   id                    39717 non-null  int64  \n",
      " 1   loan_amnt             39717 non-null  int64  \n",
      " 2   funded_amnt           39717 non-null  int64  \n",
      " 3   funded_amnt_inv       39717 non-null  float64\n",
      " 4   term                  39717 non-null  object \n",
      " 5   int_rate              39717 non-null  object \n",
      " 6   installment           39717 non-null  float64\n",
      " 7   grade                 39717 non-null  object \n",
      " 8   sub_grade             39717 non-null  object \n",
      " 9   emp_length            38642 non-null  object \n",
      " 10  home_ownership        39717 non-null  object \n",
      " 11  annual_inc            39717 non-null  float64\n",
      " 12  verification_status   39717 non-null  object \n",
      " 13  issue_d               39717 non-null  object \n",
      " 14  loan_status           39717 non-null  object \n",
      " 15  purpose               39717 non-null  object \n",
      " 16  addr_state            39717 non-null  object \n",
      " 17  dti                   39717 non-null  float64\n",
      " 18  pub_rec_bankruptcies  39020 non-null  float64\n",
      "dtypes: float64(5), int64(3), object(11)\n",
      "memory usage: 5.8+ MB\n"
     ]
    }
   ],
   "source": [
    "filtered_null_columns_df.info()"
   ]
  },
  {
   "cell_type": "markdown",
   "id": "ee22deb4",
   "metadata": {},
   "source": [
    "The only columns with null values are 'emp_length' and 'pub_rec_bankruptcies'. These are categorical columns. We can impute the missing data using mode of the column which means the value that has maximum occurence."
   ]
  },
  {
   "cell_type": "markdown",
   "id": "36ef5160",
   "metadata": {},
   "source": [
    "#### Imputing the null values in pub_rec_bankruptcies\n"
   ]
  },
  {
   "cell_type": "code",
   "execution_count": 43,
   "id": "dc30c47f",
   "metadata": {},
   "outputs": [
    {
     "data": {
      "text/plain": [
       "0    0.0\n",
       "dtype: float64"
      ]
     },
     "execution_count": 43,
     "metadata": {},
     "output_type": "execute_result"
    }
   ],
   "source": [
    "filtered_null_columns_df.loc[~filtered_null_columns_df['pub_rec_bankruptcies'].isnull()]['pub_rec_bankruptcies'].mode()"
   ]
  },
  {
   "cell_type": "code",
   "execution_count": 44,
   "id": "b1d0fbef",
   "metadata": {},
   "outputs": [],
   "source": [
    "filtered_null_columns_df.loc[filtered_null_columns_df['pub_rec_bankruptcies'].isnull(), 'pub_rec_bankruptcies'] = 0.0"
   ]
  },
  {
   "cell_type": "markdown",
   "id": "9e350234",
   "metadata": {},
   "source": [
    "For initial analysis purposes, instead of imputing values in emp_length, we can drop the rows with null values, than to impute them\n",
    "\n"
   ]
  },
  {
   "cell_type": "code",
   "execution_count": 45,
   "id": "0a5203e8",
   "metadata": {},
   "outputs": [],
   "source": [
    "df_filtered = filtered_null_columns_df[~filtered_null_columns_df.emp_length.isnull()]"
   ]
  },
  {
   "cell_type": "code",
   "execution_count": 46,
   "id": "b1c927b0",
   "metadata": {},
   "outputs": [
    {
     "data": {
      "text/plain": [
       "(38642, 19)"
      ]
     },
     "execution_count": 46,
     "metadata": {},
     "output_type": "execute_result"
    }
   ],
   "source": [
    "df_filtered.shape\n"
   ]
  },
  {
   "cell_type": "markdown",
   "id": "0056bded",
   "metadata": {},
   "source": [
    "Resolving datatype in int_rate column\n"
   ]
  },
  {
   "cell_type": "code",
   "execution_count": 47,
   "id": "e16ff035",
   "metadata": {},
   "outputs": [
    {
     "data": {
      "text/plain": [
       "'10.65%'"
      ]
     },
     "execution_count": 47,
     "metadata": {},
     "output_type": "execute_result"
    }
   ],
   "source": [
    "df_filtered.int_rate[0]"
   ]
  },
  {
   "cell_type": "code",
   "execution_count": 48,
   "id": "72014f82",
   "metadata": {},
   "outputs": [
    {
     "data": {
      "text/plain": [
       "str"
      ]
     },
     "execution_count": 48,
     "metadata": {},
     "output_type": "execute_result"
    }
   ],
   "source": [
    "type(df_filtered.int_rate[0])\n"
   ]
  },
  {
   "cell_type": "markdown",
   "id": "8abdb028",
   "metadata": {},
   "source": [
    "As we can see that the data type of the interest rate column is string. We need to remove the % column and change the datatype to float.\n",
    "\n"
   ]
  },
  {
   "cell_type": "code",
   "execution_count": 49,
   "id": "91b4e401",
   "metadata": {},
   "outputs": [
    {
     "data": {
      "text/html": [
       "<div>\n",
       "<style scoped>\n",
       "    .dataframe tbody tr th:only-of-type {\n",
       "        vertical-align: middle;\n",
       "    }\n",
       "\n",
       "    .dataframe tbody tr th {\n",
       "        vertical-align: top;\n",
       "    }\n",
       "\n",
       "    .dataframe thead th {\n",
       "        text-align: right;\n",
       "    }\n",
       "</style>\n",
       "<table border=\"1\" class=\"dataframe\">\n",
       "  <thead>\n",
       "    <tr style=\"text-align: right;\">\n",
       "      <th></th>\n",
       "      <th>id</th>\n",
       "      <th>loan_amnt</th>\n",
       "      <th>funded_amnt</th>\n",
       "      <th>funded_amnt_inv</th>\n",
       "      <th>term</th>\n",
       "      <th>int_rate</th>\n",
       "      <th>installment</th>\n",
       "      <th>grade</th>\n",
       "      <th>sub_grade</th>\n",
       "      <th>emp_length</th>\n",
       "      <th>home_ownership</th>\n",
       "      <th>annual_inc</th>\n",
       "      <th>verification_status</th>\n",
       "      <th>issue_d</th>\n",
       "      <th>loan_status</th>\n",
       "      <th>purpose</th>\n",
       "      <th>addr_state</th>\n",
       "      <th>dti</th>\n",
       "      <th>pub_rec_bankruptcies</th>\n",
       "    </tr>\n",
       "  </thead>\n",
       "  <tbody>\n",
       "    <tr>\n",
       "      <th>0</th>\n",
       "      <td>1077501</td>\n",
       "      <td>5000</td>\n",
       "      <td>5000</td>\n",
       "      <td>4975.0</td>\n",
       "      <td>36 months</td>\n",
       "      <td>10.65</td>\n",
       "      <td>162.87</td>\n",
       "      <td>B</td>\n",
       "      <td>B2</td>\n",
       "      <td>10+ years</td>\n",
       "      <td>RENT</td>\n",
       "      <td>24000.0</td>\n",
       "      <td>Verified</td>\n",
       "      <td>Dec-11</td>\n",
       "      <td>Fully Paid</td>\n",
       "      <td>credit_card</td>\n",
       "      <td>AZ</td>\n",
       "      <td>27.65</td>\n",
       "      <td>0.0</td>\n",
       "    </tr>\n",
       "    <tr>\n",
       "      <th>1</th>\n",
       "      <td>1077430</td>\n",
       "      <td>2500</td>\n",
       "      <td>2500</td>\n",
       "      <td>2500.0</td>\n",
       "      <td>60 months</td>\n",
       "      <td>15.27</td>\n",
       "      <td>59.83</td>\n",
       "      <td>C</td>\n",
       "      <td>C4</td>\n",
       "      <td>&lt; 1 year</td>\n",
       "      <td>RENT</td>\n",
       "      <td>30000.0</td>\n",
       "      <td>Source Verified</td>\n",
       "      <td>Dec-11</td>\n",
       "      <td>Charged Off</td>\n",
       "      <td>car</td>\n",
       "      <td>GA</td>\n",
       "      <td>1.00</td>\n",
       "      <td>0.0</td>\n",
       "    </tr>\n",
       "    <tr>\n",
       "      <th>2</th>\n",
       "      <td>1077175</td>\n",
       "      <td>2400</td>\n",
       "      <td>2400</td>\n",
       "      <td>2400.0</td>\n",
       "      <td>36 months</td>\n",
       "      <td>15.96</td>\n",
       "      <td>84.33</td>\n",
       "      <td>C</td>\n",
       "      <td>C5</td>\n",
       "      <td>10+ years</td>\n",
       "      <td>RENT</td>\n",
       "      <td>12252.0</td>\n",
       "      <td>Not Verified</td>\n",
       "      <td>Dec-11</td>\n",
       "      <td>Fully Paid</td>\n",
       "      <td>small_business</td>\n",
       "      <td>IL</td>\n",
       "      <td>8.72</td>\n",
       "      <td>0.0</td>\n",
       "    </tr>\n",
       "    <tr>\n",
       "      <th>3</th>\n",
       "      <td>1076863</td>\n",
       "      <td>10000</td>\n",
       "      <td>10000</td>\n",
       "      <td>10000.0</td>\n",
       "      <td>36 months</td>\n",
       "      <td>13.49</td>\n",
       "      <td>339.31</td>\n",
       "      <td>C</td>\n",
       "      <td>C1</td>\n",
       "      <td>10+ years</td>\n",
       "      <td>RENT</td>\n",
       "      <td>49200.0</td>\n",
       "      <td>Source Verified</td>\n",
       "      <td>Dec-11</td>\n",
       "      <td>Fully Paid</td>\n",
       "      <td>other</td>\n",
       "      <td>CA</td>\n",
       "      <td>20.00</td>\n",
       "      <td>0.0</td>\n",
       "    </tr>\n",
       "    <tr>\n",
       "      <th>4</th>\n",
       "      <td>1075358</td>\n",
       "      <td>3000</td>\n",
       "      <td>3000</td>\n",
       "      <td>3000.0</td>\n",
       "      <td>60 months</td>\n",
       "      <td>12.69</td>\n",
       "      <td>67.79</td>\n",
       "      <td>B</td>\n",
       "      <td>B5</td>\n",
       "      <td>1 year</td>\n",
       "      <td>RENT</td>\n",
       "      <td>80000.0</td>\n",
       "      <td>Source Verified</td>\n",
       "      <td>Dec-11</td>\n",
       "      <td>Current</td>\n",
       "      <td>other</td>\n",
       "      <td>OR</td>\n",
       "      <td>17.94</td>\n",
       "      <td>0.0</td>\n",
       "    </tr>\n",
       "  </tbody>\n",
       "</table>\n",
       "</div>"
      ],
      "text/plain": [
       "        id  loan_amnt  funded_amnt  funded_amnt_inv        term  int_rate  \\\n",
       "0  1077501       5000         5000           4975.0   36 months     10.65   \n",
       "1  1077430       2500         2500           2500.0   60 months     15.27   \n",
       "2  1077175       2400         2400           2400.0   36 months     15.96   \n",
       "3  1076863      10000        10000          10000.0   36 months     13.49   \n",
       "4  1075358       3000         3000           3000.0   60 months     12.69   \n",
       "\n",
       "   installment grade sub_grade emp_length home_ownership  annual_inc  \\\n",
       "0       162.87     B        B2  10+ years           RENT     24000.0   \n",
       "1        59.83     C        C4   < 1 year           RENT     30000.0   \n",
       "2        84.33     C        C5  10+ years           RENT     12252.0   \n",
       "3       339.31     C        C1  10+ years           RENT     49200.0   \n",
       "4        67.79     B        B5     1 year           RENT     80000.0   \n",
       "\n",
       "  verification_status issue_d  loan_status         purpose addr_state    dti  \\\n",
       "0            Verified  Dec-11   Fully Paid     credit_card         AZ  27.65   \n",
       "1     Source Verified  Dec-11  Charged Off             car         GA   1.00   \n",
       "2        Not Verified  Dec-11   Fully Paid  small_business         IL   8.72   \n",
       "3     Source Verified  Dec-11   Fully Paid           other         CA  20.00   \n",
       "4     Source Verified  Dec-11      Current           other         OR  17.94   \n",
       "\n",
       "   pub_rec_bankruptcies  \n",
       "0                   0.0  \n",
       "1                   0.0  \n",
       "2                   0.0  \n",
       "3                   0.0  \n",
       "4                   0.0  "
      ]
     },
     "execution_count": 49,
     "metadata": {},
     "output_type": "execute_result"
    }
   ],
   "source": [
    "df_filtered['int_rate'] = df_filtered.int_rate.apply(lambda x: float(x[:-1]))\n",
    "df_filtered.head()"
   ]
  },
  {
   "cell_type": "markdown",
   "id": "7cbcdb5f",
   "metadata": {},
   "source": [
    "### Outliers inspection and treatment\n"
   ]
  },
  {
   "cell_type": "code",
   "execution_count": 51,
   "id": "d2d71a09",
   "metadata": {},
   "outputs": [
    {
     "data": {
      "text/html": [
       "<div>\n",
       "<style scoped>\n",
       "    .dataframe tbody tr th:only-of-type {\n",
       "        vertical-align: middle;\n",
       "    }\n",
       "\n",
       "    .dataframe tbody tr th {\n",
       "        vertical-align: top;\n",
       "    }\n",
       "\n",
       "    .dataframe thead th {\n",
       "        text-align: right;\n",
       "    }\n",
       "</style>\n",
       "<table border=\"1\" class=\"dataframe\">\n",
       "  <thead>\n",
       "    <tr style=\"text-align: right;\">\n",
       "      <th></th>\n",
       "      <th>id</th>\n",
       "      <th>loan_amnt</th>\n",
       "      <th>funded_amnt</th>\n",
       "      <th>funded_amnt_inv</th>\n",
       "      <th>int_rate</th>\n",
       "      <th>installment</th>\n",
       "      <th>annual_inc</th>\n",
       "      <th>dti</th>\n",
       "      <th>pub_rec_bankruptcies</th>\n",
       "    </tr>\n",
       "  </thead>\n",
       "  <tbody>\n",
       "    <tr>\n",
       "      <th>count</th>\n",
       "      <td>3.864200e+04</td>\n",
       "      <td>38642.000000</td>\n",
       "      <td>38642.000000</td>\n",
       "      <td>38642.000000</td>\n",
       "      <td>38642.000000</td>\n",
       "      <td>38642.000000</td>\n",
       "      <td>3.864200e+04</td>\n",
       "      <td>38642.000000</td>\n",
       "      <td>38642.000000</td>\n",
       "    </tr>\n",
       "    <tr>\n",
       "      <th>mean</th>\n",
       "      <td>6.810404e+05</td>\n",
       "      <td>11291.615988</td>\n",
       "      <td>11017.101211</td>\n",
       "      <td>10455.452667</td>\n",
       "      <td>12.052427</td>\n",
       "      <td>326.760477</td>\n",
       "      <td>6.960828e+04</td>\n",
       "      <td>13.325108</td>\n",
       "      <td>0.040811</td>\n",
       "    </tr>\n",
       "    <tr>\n",
       "      <th>std</th>\n",
       "      <td>2.113045e+05</td>\n",
       "      <td>7462.136215</td>\n",
       "      <td>7193.038828</td>\n",
       "      <td>7139.613641</td>\n",
       "      <td>3.716705</td>\n",
       "      <td>209.143908</td>\n",
       "      <td>6.425320e+04</td>\n",
       "      <td>6.666902</td>\n",
       "      <td>0.198767</td>\n",
       "    </tr>\n",
       "    <tr>\n",
       "      <th>min</th>\n",
       "      <td>5.473400e+04</td>\n",
       "      <td>500.000000</td>\n",
       "      <td>500.000000</td>\n",
       "      <td>0.000000</td>\n",
       "      <td>5.420000</td>\n",
       "      <td>15.690000</td>\n",
       "      <td>4.000000e+03</td>\n",
       "      <td>0.000000</td>\n",
       "      <td>0.000000</td>\n",
       "    </tr>\n",
       "    <tr>\n",
       "      <th>25%</th>\n",
       "      <td>5.134350e+05</td>\n",
       "      <td>5500.000000</td>\n",
       "      <td>5500.000000</td>\n",
       "      <td>5000.000000</td>\n",
       "      <td>9.320000</td>\n",
       "      <td>168.442500</td>\n",
       "      <td>4.140000e+04</td>\n",
       "      <td>8.200000</td>\n",
       "      <td>0.000000</td>\n",
       "    </tr>\n",
       "    <tr>\n",
       "      <th>50%</th>\n",
       "      <td>6.627705e+05</td>\n",
       "      <td>10000.000000</td>\n",
       "      <td>9950.000000</td>\n",
       "      <td>9000.000000</td>\n",
       "      <td>11.860000</td>\n",
       "      <td>282.830000</td>\n",
       "      <td>6.000000e+04</td>\n",
       "      <td>13.415000</td>\n",
       "      <td>0.000000</td>\n",
       "    </tr>\n",
       "    <tr>\n",
       "      <th>75%</th>\n",
       "      <td>8.364912e+05</td>\n",
       "      <td>15000.000000</td>\n",
       "      <td>15000.000000</td>\n",
       "      <td>14425.000000</td>\n",
       "      <td>14.590000</td>\n",
       "      <td>434.397500</td>\n",
       "      <td>8.319999e+04</td>\n",
       "      <td>18.590000</td>\n",
       "      <td>0.000000</td>\n",
       "    </tr>\n",
       "    <tr>\n",
       "      <th>95%</th>\n",
       "      <td>1.040032e+06</td>\n",
       "      <td>25000.000000</td>\n",
       "      <td>25000.000000</td>\n",
       "      <td>24750.000000</td>\n",
       "      <td>18.620000</td>\n",
       "      <td>767.875500</td>\n",
       "      <td>1.439750e+05</td>\n",
       "      <td>23.830000</td>\n",
       "      <td>0.000000</td>\n",
       "    </tr>\n",
       "    <tr>\n",
       "      <th>99.5%</th>\n",
       "      <td>1.066229e+06</td>\n",
       "      <td>35000.000000</td>\n",
       "      <td>35000.000000</td>\n",
       "      <td>34975.000000</td>\n",
       "      <td>21.740000</td>\n",
       "      <td>1064.670000</td>\n",
       "      <td>3.000000e+05</td>\n",
       "      <td>28.047950</td>\n",
       "      <td>1.000000</td>\n",
       "    </tr>\n",
       "    <tr>\n",
       "      <th>max</th>\n",
       "      <td>1.077501e+06</td>\n",
       "      <td>35000.000000</td>\n",
       "      <td>35000.000000</td>\n",
       "      <td>35000.000000</td>\n",
       "      <td>24.590000</td>\n",
       "      <td>1305.190000</td>\n",
       "      <td>6.000000e+06</td>\n",
       "      <td>29.990000</td>\n",
       "      <td>2.000000</td>\n",
       "    </tr>\n",
       "  </tbody>\n",
       "</table>\n",
       "</div>"
      ],
      "text/plain": [
       "                 id     loan_amnt   funded_amnt  funded_amnt_inv  \\\n",
       "count  3.864200e+04  38642.000000  38642.000000     38642.000000   \n",
       "mean   6.810404e+05  11291.615988  11017.101211     10455.452667   \n",
       "std    2.113045e+05   7462.136215   7193.038828      7139.613641   \n",
       "min    5.473400e+04    500.000000    500.000000         0.000000   \n",
       "25%    5.134350e+05   5500.000000   5500.000000      5000.000000   \n",
       "50%    6.627705e+05  10000.000000   9950.000000      9000.000000   \n",
       "75%    8.364912e+05  15000.000000  15000.000000     14425.000000   \n",
       "95%    1.040032e+06  25000.000000  25000.000000     24750.000000   \n",
       "99.5%  1.066229e+06  35000.000000  35000.000000     34975.000000   \n",
       "max    1.077501e+06  35000.000000  35000.000000     35000.000000   \n",
       "\n",
       "           int_rate   installment    annual_inc           dti  \\\n",
       "count  38642.000000  38642.000000  3.864200e+04  38642.000000   \n",
       "mean      12.052427    326.760477  6.960828e+04     13.325108   \n",
       "std        3.716705    209.143908  6.425320e+04      6.666902   \n",
       "min        5.420000     15.690000  4.000000e+03      0.000000   \n",
       "25%        9.320000    168.442500  4.140000e+04      8.200000   \n",
       "50%       11.860000    282.830000  6.000000e+04     13.415000   \n",
       "75%       14.590000    434.397500  8.319999e+04     18.590000   \n",
       "95%       18.620000    767.875500  1.439750e+05     23.830000   \n",
       "99.5%     21.740000   1064.670000  3.000000e+05     28.047950   \n",
       "max       24.590000   1305.190000  6.000000e+06     29.990000   \n",
       "\n",
       "       pub_rec_bankruptcies  \n",
       "count          38642.000000  \n",
       "mean               0.040811  \n",
       "std                0.198767  \n",
       "min                0.000000  \n",
       "25%                0.000000  \n",
       "50%                0.000000  \n",
       "75%                0.000000  \n",
       "95%                0.000000  \n",
       "99.5%              1.000000  \n",
       "max                2.000000  "
      ]
     },
     "execution_count": 51,
     "metadata": {},
     "output_type": "execute_result"
    }
   ],
   "source": [
    "df_filtered.describe(percentiles = [0.25,0.5,0.75,0.95,0.995])\n"
   ]
  },
  {
   "cell_type": "markdown",
   "id": "a61d3260",
   "metadata": {},
   "source": [
    "As we can see that column annual_inc has huge difference between 99.5th percentile and max value. We need to examine it closely using other methods\n",
    "\n"
   ]
  },
  {
   "cell_type": "code",
   "execution_count": 53,
   "id": "5e05a17d",
   "metadata": {},
   "outputs": [
    {
     "data": {
      "text/plain": [
       "<AxesSubplot:>"
      ]
     },
     "execution_count": 53,
     "metadata": {},
     "output_type": "execute_result"
    },
    {
     "data": {
      "image/png": "[encoded data removed]",
      "text/plain": [
       "<Figure size 432x288 with 1 Axes>"
      ]
     },
     "metadata": {
      "needs_background": "light"
     },
     "output_type": "display_data"
    }
   ],
   "source": [
    "df_filtered['annual_inc'].plot(kind='box')\n"
   ]
  },
  {
   "cell_type": "markdown",
   "id": "8da61590",
   "metadata": {},
   "source": [
    "It is evivent that there are some outliers in the column and need to be removed.\n",
    "\n"
   ]
  },
  {
   "cell_type": "code",
   "execution_count": 54,
   "id": "d0d9c867",
   "metadata": {},
   "outputs": [
    {
     "data": {
      "text/plain": [
       "<AxesSubplot:>"
      ]
     },
     "execution_count": 54,
     "metadata": {},
     "output_type": "execute_result"
    },
    {
     "data": {
      "image/png": "[encoded data removed]",
      "text/plain": [
       "<Figure size 432x288 with 1 Axes>"
      ]
     },
     "metadata": {
      "needs_background": "light"
     },
     "output_type": "display_data"
    }
   ],
   "source": [
    "df_filtered[df_filtered['annual_inc']<300000]['annual_inc'].plot(kind='box')"
   ]
  },
  {
   "cell_type": "code",
   "execution_count": 55,
   "id": "f8106704",
   "metadata": {},
   "outputs": [
    {
     "data": {
      "text/plain": [
       "(1535, 19)"
      ]
     },
     "execution_count": 55,
     "metadata": {},
     "output_type": "execute_result"
    }
   ],
   "source": [
    "df_filtered[df_filtered['annual_inc']>150000].shape\n"
   ]
  },
  {
   "cell_type": "markdown",
   "id": "29008022",
   "metadata": {},
   "source": [
    "From the graph, we can see that even after filtering the data at 99.5th percentile value, there are still many outliers in the column. Hence we decide to remove all the values upto 95th percentile of the column which is roughly 15,00,000\n",
    "\n"
   ]
  },
  {
   "cell_type": "code",
   "execution_count": 56,
   "id": "1aa85374",
   "metadata": {},
   "outputs": [
    {
     "data": {
      "text/plain": [
       "<AxesSubplot:>"
      ]
     },
     "execution_count": 56,
     "metadata": {},
     "output_type": "execute_result"
    },
    {
     "data": {
      "image/png": "[encoded data removed]",
      "text/plain": [
       "<Figure size 432x288 with 1 Axes>"
      ]
     },
     "metadata": {
      "needs_background": "light"
     },
     "output_type": "display_data"
    }
   ],
   "source": [
    "df_filtered[df_filtered['annual_inc']<150000]['annual_inc'].plot(kind='box')\n"
   ]
  },
  {
   "cell_type": "code",
   "execution_count": 57,
   "id": "5e37a4fd",
   "metadata": {},
   "outputs": [],
   "source": [
    "df_filtered = df_filtered[df_filtered['annual_inc']<150000]\n"
   ]
  },
  {
   "cell_type": "code",
   "execution_count": 58,
   "id": "449f61e8",
   "metadata": {},
   "outputs": [
    {
     "data": {
      "text/plain": [
       "(36869, 19)"
      ]
     },
     "execution_count": 58,
     "metadata": {},
     "output_type": "execute_result"
    }
   ],
   "source": [
    "df_filtered.shape\n"
   ]
  },
  {
   "cell_type": "code",
   "execution_count": 59,
   "id": "f172c7c3",
   "metadata": {},
   "outputs": [
    {
     "data": {
      "text/plain": [
       "RENT        18075\n",
       "MORTGAGE    15969\n",
       "OWN          2729\n",
       "OTHER          93\n",
       "NONE            3\n",
       "Name: home_ownership, dtype: int64"
      ]
     },
     "execution_count": 59,
     "metadata": {},
     "output_type": "execute_result"
    }
   ],
   "source": [
    "df_filtered.home_ownership.value_counts()\n"
   ]
  },
  {
   "cell_type": "code",
   "execution_count": 60,
   "id": "c4a91cf7",
   "metadata": {},
   "outputs": [
    {
     "data": {
      "text/html": [
       "<div>\n",
       "<style scoped>\n",
       "    .dataframe tbody tr th:only-of-type {\n",
       "        vertical-align: middle;\n",
       "    }\n",
       "\n",
       "    .dataframe tbody tr th {\n",
       "        vertical-align: top;\n",
       "    }\n",
       "\n",
       "    .dataframe thead th {\n",
       "        text-align: right;\n",
       "    }\n",
       "</style>\n",
       "<table border=\"1\" class=\"dataframe\">\n",
       "  <thead>\n",
       "    <tr style=\"text-align: right;\">\n",
       "      <th></th>\n",
       "      <th>id</th>\n",
       "      <th>loan_amnt</th>\n",
       "      <th>funded_amnt</th>\n",
       "      <th>funded_amnt_inv</th>\n",
       "      <th>term</th>\n",
       "      <th>int_rate</th>\n",
       "      <th>installment</th>\n",
       "      <th>grade</th>\n",
       "      <th>sub_grade</th>\n",
       "      <th>emp_length</th>\n",
       "      <th>home_ownership</th>\n",
       "      <th>annual_inc</th>\n",
       "      <th>verification_status</th>\n",
       "      <th>issue_d</th>\n",
       "      <th>loan_status</th>\n",
       "      <th>purpose</th>\n",
       "      <th>addr_state</th>\n",
       "      <th>dti</th>\n",
       "      <th>pub_rec_bankruptcies</th>\n",
       "    </tr>\n",
       "  </thead>\n",
       "  <tbody>\n",
       "    <tr>\n",
       "      <th>39318</th>\n",
       "      <td>231321</td>\n",
       "      <td>10000</td>\n",
       "      <td>10000</td>\n",
       "      <td>1228.06</td>\n",
       "      <td>36 months</td>\n",
       "      <td>7.75</td>\n",
       "      <td>312.22</td>\n",
       "      <td>A</td>\n",
       "      <td>A3</td>\n",
       "      <td>5 years</td>\n",
       "      <td>NONE</td>\n",
       "      <td>22200.0</td>\n",
       "      <td>Not Verified</td>\n",
       "      <td>Jan-08</td>\n",
       "      <td>Fully Paid</td>\n",
       "      <td>debt_consolidation</td>\n",
       "      <td>VA</td>\n",
       "      <td>5.24</td>\n",
       "      <td>0.0</td>\n",
       "    </tr>\n",
       "    <tr>\n",
       "      <th>39659</th>\n",
       "      <td>121568</td>\n",
       "      <td>4000</td>\n",
       "      <td>4000</td>\n",
       "      <td>1925.00</td>\n",
       "      <td>36 months</td>\n",
       "      <td>9.64</td>\n",
       "      <td>128.41</td>\n",
       "      <td>B</td>\n",
       "      <td>B4</td>\n",
       "      <td>&lt; 1 year</td>\n",
       "      <td>NONE</td>\n",
       "      <td>100000.0</td>\n",
       "      <td>Not Verified</td>\n",
       "      <td>Aug-07</td>\n",
       "      <td>Fully Paid</td>\n",
       "      <td>other</td>\n",
       "      <td>CA</td>\n",
       "      <td>15.00</td>\n",
       "      <td>0.0</td>\n",
       "    </tr>\n",
       "    <tr>\n",
       "      <th>39660</th>\n",
       "      <td>121535</td>\n",
       "      <td>2800</td>\n",
       "      <td>2800</td>\n",
       "      <td>1625.00</td>\n",
       "      <td>36 months</td>\n",
       "      <td>8.70</td>\n",
       "      <td>88.65</td>\n",
       "      <td>B</td>\n",
       "      <td>B1</td>\n",
       "      <td>&lt; 1 year</td>\n",
       "      <td>NONE</td>\n",
       "      <td>120000.0</td>\n",
       "      <td>Not Verified</td>\n",
       "      <td>Aug-07</td>\n",
       "      <td>Fully Paid</td>\n",
       "      <td>other</td>\n",
       "      <td>MA</td>\n",
       "      <td>15.00</td>\n",
       "      <td>0.0</td>\n",
       "    </tr>\n",
       "  </tbody>\n",
       "</table>\n",
       "</div>"
      ],
      "text/plain": [
       "           id  loan_amnt  funded_amnt  funded_amnt_inv        term  int_rate  \\\n",
       "39318  231321      10000        10000          1228.06   36 months      7.75   \n",
       "39659  121568       4000         4000          1925.00   36 months      9.64   \n",
       "39660  121535       2800         2800          1625.00   36 months      8.70   \n",
       "\n",
       "       installment grade sub_grade emp_length home_ownership  annual_inc  \\\n",
       "39318       312.22     A        A3    5 years           NONE     22200.0   \n",
       "39659       128.41     B        B4   < 1 year           NONE    100000.0   \n",
       "39660        88.65     B        B1   < 1 year           NONE    120000.0   \n",
       "\n",
       "      verification_status issue_d loan_status             purpose addr_state  \\\n",
       "39318        Not Verified  Jan-08  Fully Paid  debt_consolidation         VA   \n",
       "39659        Not Verified  Aug-07  Fully Paid               other         CA   \n",
       "39660        Not Verified  Aug-07  Fully Paid               other         MA   \n",
       "\n",
       "         dti  pub_rec_bankruptcies  \n",
       "39318   5.24                   0.0  \n",
       "39659  15.00                   0.0  \n",
       "39660  15.00                   0.0  "
      ]
     },
     "execution_count": 60,
     "metadata": {},
     "output_type": "execute_result"
    }
   ],
   "source": [
    "df_filtered[df_filtered.home_ownership=='NONE']\n"
   ]
  },
  {
   "cell_type": "markdown",
   "id": "0cb757d8",
   "metadata": {},
   "source": [
    "From above code block, we can see that there are only 3 values in the \"None\" category of home_ownership. These as well can be termed as outliers and hence need to be dropped\n",
    "\n"
   ]
  },
  {
   "cell_type": "code",
   "execution_count": 61,
   "id": "7fa9fb83",
   "metadata": {},
   "outputs": [],
   "source": [
    "cleaned_data = df_filtered[df_filtered.home_ownership!='NONE']"
   ]
  },
  {
   "cell_type": "markdown",
   "id": "2c228770",
   "metadata": {},
   "source": [
    "This completes the data cleaning part of the process.\n",
    "\n"
   ]
  },
  {
   "cell_type": "markdown",
   "id": "8164e967",
   "metadata": {},
   "source": [
    "## Univariate Analysis\n"
   ]
  },
  {
   "cell_type": "markdown",
   "id": "699e1147",
   "metadata": {},
   "source": [
    "Term"
   ]
  },
  {
   "cell_type": "code",
   "execution_count": 62,
   "id": "be3f2649",
   "metadata": {},
   "outputs": [
    {
     "data": {
      "text/plain": [
       "<AxesSubplot:>"
      ]
     },
     "execution_count": 62,
     "metadata": {},
     "output_type": "execute_result"
    },
    {
     "data": {
      "image/png": "[encoded data removed]",
      "text/plain": [
       "<Figure size 432x288 with 1 Axes>"
      ]
     },
     "metadata": {
      "needs_background": "light"
     },
     "output_type": "display_data"
    }
   ],
   "source": [
    "cleaned_data.term.value_counts(normalize=True).plot(kind='bar', rot=0)\n"
   ]
  },
  {
   "cell_type": "markdown",
   "id": "f8217921",
   "metadata": {},
   "source": [
    "### Observation"
   ]
  },
  {
   "cell_type": "markdown",
   "id": "1272c1ca",
   "metadata": {},
   "source": [
    "- More loans have been issued for 36 months as compared to 60 months\n"
   ]
  },
  {
   "cell_type": "markdown",
   "id": "0a51d3e0",
   "metadata": {},
   "source": [
    "### Grade"
   ]
  },
  {
   "cell_type": "code",
   "execution_count": 64,
   "id": "592b46ca",
   "metadata": {},
   "outputs": [
    {
     "data": {
      "text/plain": [
       "<AxesSubplot:>"
      ]
     },
     "execution_count": 64,
     "metadata": {},
     "output_type": "execute_result"
    },
    {
     "data": {
      "image/png": "[encoded data removed]",
      "text/plain": [
       "<Figure size 432x288 with 1 Axes>"
      ]
     },
     "metadata": {
      "needs_background": "light"
     },
     "output_type": "display_data"
    }
   ],
   "source": [
    "cleaned_data.grade.value_counts(normalize=True).plot(kind='bar', rot=0)"
   ]
  },
  {
   "cell_type": "markdown",
   "id": "f70f2995",
   "metadata": {},
   "source": [
    "### Sub_grade"
   ]
  },
  {
   "cell_type": "code",
   "execution_count": 65,
   "id": "ecaf494e",
   "metadata": {},
   "outputs": [
    {
     "data": {
      "text/plain": [
       "<AxesSubplot:>"
      ]
     },
     "execution_count": 65,
     "metadata": {},
     "output_type": "execute_result"
    },
    {
     "data": {
      "image/png": "[encoded data removed]",
      "text/plain": [
       "<Figure size 720x432 with 1 Axes>"
      ]
     },
     "metadata": {
      "needs_background": "light"
     },
     "output_type": "display_data"
    }
   ],
   "source": [
    "cleaned_data.sub_grade.value_counts(normalize=True).plot(kind='bar', rot=0, figsize = [10,6])"
   ]
  },
  {
   "cell_type": "markdown",
   "id": "2dd8f521",
   "metadata": {},
   "source": [
    "### home_ownership\n"
   ]
  },
  {
   "cell_type": "code",
   "execution_count": 66,
   "id": "c95e153d",
   "metadata": {},
   "outputs": [
    {
     "data": {
      "text/plain": [
       "<AxesSubplot:>"
      ]
     },
     "execution_count": 66,
     "metadata": {},
     "output_type": "execute_result"
    },
    {
     "data": {
      "image/png": "[encoded data removed]",
      "text/plain": [
       "<Figure size 432x288 with 1 Axes>"
      ]
     },
     "metadata": {
      "needs_background": "light"
     },
     "output_type": "display_data"
    }
   ],
   "source": [
    "cleaned_data.home_ownership.value_counts(normalize=True).plot(kind='bar', rot=0)"
   ]
  },
  {
   "cell_type": "markdown",
   "id": "6d039689",
   "metadata": {},
   "source": [
    "### Observation"
   ]
  },
  {
   "cell_type": "markdown",
   "id": "a1e44df5",
   "metadata": {},
   "source": [
    "- The data of home_ownership column is highly skewed towards to categories\n"
   ]
  },
  {
   "cell_type": "markdown",
   "id": "ab70fd95",
   "metadata": {},
   "source": [
    "### Purpose"
   ]
  },
  {
   "cell_type": "code",
   "execution_count": 68,
   "id": "b4c946b9",
   "metadata": {},
   "outputs": [
    {
     "data": {
      "text/plain": [
       "<AxesSubplot:>"
      ]
     },
     "execution_count": 68,
     "metadata": {},
     "output_type": "execute_result"
    },
    {
     "data": {
      "image/png": "[encoded data removed]",
      "text/plain": [
       "<Figure size 432x288 with 1 Axes>"
      ]
     },
     "metadata": {
      "needs_background": "light"
     },
     "output_type": "display_data"
    }
   ],
   "source": [
    "cleaned_data.purpose.value_counts(normalize=True).plot(kind='bar')\n"
   ]
  },
  {
   "cell_type": "markdown",
   "id": "914b4c89",
   "metadata": {},
   "source": [
    "### Observation"
   ]
  },
  {
   "cell_type": "markdown",
   "id": "63b79b79",
   "metadata": {},
   "source": [
    "- The data of purpose column is highly skewed\n"
   ]
  },
  {
   "cell_type": "code",
   "execution_count": 70,
   "id": "8b196a90",
   "metadata": {},
   "outputs": [
    {
     "data": {
      "text/plain": [
       "<AxesSubplot:>"
      ]
     },
     "execution_count": 70,
     "metadata": {},
     "output_type": "execute_result"
    },
    {
     "data": {
      "image/png": "[encoded data removed]",
      "text/plain": [
       "<Figure size 432x288 with 1 Axes>"
      ]
     },
     "metadata": {
      "needs_background": "light"
     },
     "output_type": "display_data"
    }
   ],
   "source": [
    "cleaned_data.loan_amnt.plot(kind='box')\n"
   ]
  },
  {
   "cell_type": "code",
   "execution_count": 71,
   "id": "ffafd4c6",
   "metadata": {},
   "outputs": [
    {
     "data": {
      "text/plain": [
       "<AxesSubplot:>"
      ]
     },
     "execution_count": 71,
     "metadata": {},
     "output_type": "execute_result"
    },
    {
     "data": {
      "image/png": "[encoded data removed]",
      "text/plain": [
       "<Figure size 432x288 with 1 Axes>"
      ]
     },
     "metadata": {
      "needs_background": "light"
     },
     "output_type": "display_data"
    }
   ],
   "source": [
    "cleaned_data.int_rate.plot(kind='box')\n"
   ]
  },
  {
   "cell_type": "code",
   "execution_count": 72,
   "id": "78dce4e0",
   "metadata": {},
   "outputs": [
    {
     "data": {
      "text/plain": [
       "<AxesSubplot:>"
      ]
     },
     "execution_count": 72,
     "metadata": {},
     "output_type": "execute_result"
    },
    {
     "data": {
      "image/png": "[encoded data removed]",
      "text/plain": [
       "<Figure size 432x288 with 1 Axes>"
      ]
     },
     "metadata": {
      "needs_background": "light"
     },
     "output_type": "display_data"
    }
   ],
   "source": [
    "cleaned_data.dti.plot(kind='box')\n"
   ]
  },
  {
   "cell_type": "code",
   "execution_count": 73,
   "id": "720a4f1b",
   "metadata": {},
   "outputs": [
    {
     "data": {
      "text/plain": [
       "<AxesSubplot:>"
      ]
     },
     "execution_count": 73,
     "metadata": {},
     "output_type": "execute_result"
    },
    {
     "data": {
      "image/png": "[encoded data removed]",
      "text/plain": [
       "<Figure size 432x288 with 1 Axes>"
      ]
     },
     "metadata": {
      "needs_background": "light"
     },
     "output_type": "display_data"
    }
   ],
   "source": [
    "cleaned_data.annual_inc.plot(kind='box')\n"
   ]
  },
  {
   "cell_type": "markdown",
   "id": "c525e602",
   "metadata": {},
   "source": [
    "## Bivariate analysis\n"
   ]
  },
  {
   "cell_type": "code",
   "execution_count": 74,
   "id": "253169cc",
   "metadata": {},
   "outputs": [
    {
     "data": {
      "text/plain": [
       "Fully Paid     30636\n",
       "Charged Off     5213\n",
       "Current         1017\n",
       "Name: loan_status, dtype: int64"
      ]
     },
     "execution_count": 74,
     "metadata": {},
     "output_type": "execute_result"
    }
   ],
   "source": [
    "cleaned_data.loan_status.value_counts()"
   ]
  },
  {
   "cell_type": "markdown",
   "id": "056f60ea",
   "metadata": {},
   "source": [
    "- Based on the problem statement provided, we need to identify the factors responsible for loan defaults. The column loan_status indicates whether the customer has defaulted(Charged Off), fully paid or has an active loan with the lending institution. As the customers with active loan are neither defaulters not non-defaulters, we cannot consider them for analysis. Hence we will be removing these datapoints."
   ]
  },
  {
   "cell_type": "code",
   "execution_count": 76,
   "id": "380ff860",
   "metadata": {},
   "outputs": [],
   "source": [
    "cleaned_data = cleaned_data[cleaned_data.loan_status!='Current']"
   ]
  },
  {
   "cell_type": "markdown",
   "id": "e4977c96",
   "metadata": {},
   "source": [
    "### Default rate\n"
   ]
  },
  {
   "cell_type": "markdown",
   "id": "7981cc6c",
   "metadata": {},
   "source": [
    "- In order to find if the variable is a good predictor, we need to calculate the default rate.\n",
    "- It is calculated by using the formula Default_rate(%) = (Count of charged off cases)/(Total loans issued)*100"
   ]
  },
  {
   "cell_type": "code",
   "execution_count": 78,
   "id": "34a96e2e",
   "metadata": {},
   "outputs": [],
   "source": [
    "def calc_default_rate(table):\n",
    "    table = table.reset_index()\n",
    "    table['Total Cases'] = (table['Charged Off']+table['Fully Paid'])\n",
    "    table['default_rate'] = (table['Charged Off']/(table['Charged Off']+table['Fully Paid']))*100\n",
    "    \n",
    "    return table\n"
   ]
  },
  {
   "cell_type": "markdown",
   "id": "85b0ff5a",
   "metadata": {},
   "source": [
    "### Analysing default rate for loan amount column\n"
   ]
  },
  {
   "cell_type": "markdown",
   "id": "0a42ce2d",
   "metadata": {},
   "source": [
    "In order to analyse the default rate, we need to plot a frequency distribution table, which we will be doing using pivot table\n",
    "\n",
    "As the column is numerical, we need to perform binning in order to plot a grap"
   ]
  },
  {
   "cell_type": "code",
   "execution_count": 80,
   "id": "3e775827",
   "metadata": {},
   "outputs": [],
   "source": [
    "bins = range(0,35000,5000)\n",
    "cleaned_data['loan_amt_bin'] = pd.cut(cleaned_data['loan_amnt'], bins)"
   ]
  },
  {
   "cell_type": "code",
   "execution_count": 81,
   "id": "c5e9bd35",
   "metadata": {},
   "outputs": [],
   "source": [
    "loan_amt_pvt = pd.pivot_table(cleaned_data, values='id', index=['loan_amt_bin'],columns=['loan_status'], aggfunc='count')"
   ]
  },
  {
   "cell_type": "code",
   "execution_count": 82,
   "id": "702ea75f",
   "metadata": {},
   "outputs": [
    {
     "data": {
      "text/html": [
       "<div>\n",
       "<style scoped>\n",
       "    .dataframe tbody tr th:only-of-type {\n",
       "        vertical-align: middle;\n",
       "    }\n",
       "\n",
       "    .dataframe tbody tr th {\n",
       "        vertical-align: top;\n",
       "    }\n",
       "\n",
       "    .dataframe thead th {\n",
       "        text-align: right;\n",
       "    }\n",
       "</style>\n",
       "<table border=\"1\" class=\"dataframe\">\n",
       "  <thead>\n",
       "    <tr style=\"text-align: right;\">\n",
       "      <th>loan_status</th>\n",
       "      <th>Charged Off</th>\n",
       "      <th>Fully Paid</th>\n",
       "    </tr>\n",
       "    <tr>\n",
       "      <th>loan_amt_bin</th>\n",
       "      <th></th>\n",
       "      <th></th>\n",
       "    </tr>\n",
       "  </thead>\n",
       "  <tbody>\n",
       "    <tr>\n",
       "      <th>(0, 5000]</th>\n",
       "      <td>1210</td>\n",
       "      <td>7721</td>\n",
       "    </tr>\n",
       "    <tr>\n",
       "      <th>(5000, 10000]</th>\n",
       "      <td>1542</td>\n",
       "      <td>10590</td>\n",
       "    </tr>\n",
       "    <tr>\n",
       "      <th>(10000, 15000]</th>\n",
       "      <td>995</td>\n",
       "      <td>6240</td>\n",
       "    </tr>\n",
       "    <tr>\n",
       "      <th>(15000, 20000]</th>\n",
       "      <td>713</td>\n",
       "      <td>3296</td>\n",
       "    </tr>\n",
       "    <tr>\n",
       "      <th>(20000, 25000]</th>\n",
       "      <td>478</td>\n",
       "      <td>1939</td>\n",
       "    </tr>\n",
       "    <tr>\n",
       "      <th>(25000, 30000]</th>\n",
       "      <td>124</td>\n",
       "      <td>457</td>\n",
       "    </tr>\n",
       "  </tbody>\n",
       "</table>\n",
       "</div>"
      ],
      "text/plain": [
       "loan_status     Charged Off  Fully Paid\n",
       "loan_amt_bin                           \n",
       "(0, 5000]              1210        7721\n",
       "(5000, 10000]          1542       10590\n",
       "(10000, 15000]          995        6240\n",
       "(15000, 20000]          713        3296\n",
       "(20000, 25000]          478        1939\n",
       "(25000, 30000]          124         457"
      ]
     },
     "execution_count": 82,
     "metadata": {},
     "output_type": "execute_result"
    }
   ],
   "source": [
    "loan_amt_pvt"
   ]
  },
  {
   "cell_type": "code",
   "execution_count": 83,
   "id": "9c1e5fcf",
   "metadata": {},
   "outputs": [],
   "source": [
    "loan_amt_pvt = calc_default_rate(loan_amt_pvt)\n"
   ]
  },
  {
   "cell_type": "code",
   "execution_count": 84,
   "id": "f085a3bf",
   "metadata": {},
   "outputs": [
    {
     "data": {
      "image/png": "[encoded data removed]",
      "text/plain": [
       "<Figure size 432x432 with 1 Axes>"
      ]
     },
     "metadata": {
      "needs_background": "light"
     },
     "output_type": "display_data"
    }
   ],
   "source": [
    "fig = loan_amt_pvt.plot(kind='bar', x='loan_amt_bin', y='default_rate', ylabel='default_rate', figsize=[6,6]).get_figure()\n"
   ]
  },
  {
   "cell_type": "code",
   "execution_count": 85,
   "id": "d8324ade",
   "metadata": {},
   "outputs": [],
   "source": [
    "fig.savefig('loan_amnt_analysis.png')\n"
   ]
  },
  {
   "cell_type": "markdown",
   "id": "e0c39b67",
   "metadata": {},
   "source": [
    "### Inference\n"
   ]
  },
  {
   "cell_type": "markdown",
   "id": "9fba4df3",
   "metadata": {},
   "source": [
    "- We can see that as the loan amount is increasing, so is the default rate. Hence we can say that loan_amnt is a driver variable\n"
   ]
  },
  {
   "cell_type": "markdown",
   "id": "27d7869b",
   "metadata": {},
   "source": [
    "### Analysing default rate for column grade\n"
   ]
  },
  {
   "cell_type": "code",
   "execution_count": 88,
   "id": "940bd0db",
   "metadata": {},
   "outputs": [],
   "source": [
    "grade_pvt = pd.pivot_table(cleaned_data, values='id', index=['grade'],columns=['loan_status'], aggfunc='count')"
   ]
  },
  {
   "cell_type": "code",
   "execution_count": 89,
   "id": "ad7230e7",
   "metadata": {},
   "outputs": [],
   "source": [
    "grade_pvt = calc_default_rate(grade_pvt)"
   ]
  },
  {
   "cell_type": "code",
   "execution_count": 90,
   "id": "9791768d",
   "metadata": {},
   "outputs": [
    {
     "data": {
      "text/html": [
       "<div>\n",
       "<style scoped>\n",
       "    .dataframe tbody tr th:only-of-type {\n",
       "        vertical-align: middle;\n",
       "    }\n",
       "\n",
       "    .dataframe tbody tr th {\n",
       "        vertical-align: top;\n",
       "    }\n",
       "\n",
       "    .dataframe thead th {\n",
       "        text-align: right;\n",
       "    }\n",
       "</style>\n",
       "<table border=\"1\" class=\"dataframe\">\n",
       "  <thead>\n",
       "    <tr style=\"text-align: right;\">\n",
       "      <th>loan_status</th>\n",
       "      <th>grade</th>\n",
       "      <th>Charged Off</th>\n",
       "      <th>Fully Paid</th>\n",
       "      <th>Total Cases</th>\n",
       "      <th>default_rate</th>\n",
       "    </tr>\n",
       "  </thead>\n",
       "  <tbody>\n",
       "    <tr>\n",
       "      <th>0</th>\n",
       "      <td>A</td>\n",
       "      <td>550</td>\n",
       "      <td>8770</td>\n",
       "      <td>9320</td>\n",
       "      <td>5.901288</td>\n",
       "    </tr>\n",
       "    <tr>\n",
       "      <th>1</th>\n",
       "      <td>B</td>\n",
       "      <td>1312</td>\n",
       "      <td>9537</td>\n",
       "      <td>10849</td>\n",
       "      <td>12.093280</td>\n",
       "    </tr>\n",
       "    <tr>\n",
       "      <th>2</th>\n",
       "      <td>C</td>\n",
       "      <td>1269</td>\n",
       "      <td>6083</td>\n",
       "      <td>7352</td>\n",
       "      <td>17.260609</td>\n",
       "    </tr>\n",
       "    <tr>\n",
       "      <th>3</th>\n",
       "      <td>D</td>\n",
       "      <td>1052</td>\n",
       "      <td>3707</td>\n",
       "      <td>4759</td>\n",
       "      <td>22.105484</td>\n",
       "    </tr>\n",
       "    <tr>\n",
       "      <th>4</th>\n",
       "      <td>E</td>\n",
       "      <td>649</td>\n",
       "      <td>1777</td>\n",
       "      <td>2426</td>\n",
       "      <td>26.751855</td>\n",
       "    </tr>\n",
       "    <tr>\n",
       "      <th>5</th>\n",
       "      <td>F</td>\n",
       "      <td>286</td>\n",
       "      <td>589</td>\n",
       "      <td>875</td>\n",
       "      <td>32.685714</td>\n",
       "    </tr>\n",
       "    <tr>\n",
       "      <th>6</th>\n",
       "      <td>G</td>\n",
       "      <td>95</td>\n",
       "      <td>173</td>\n",
       "      <td>268</td>\n",
       "      <td>35.447761</td>\n",
       "    </tr>\n",
       "  </tbody>\n",
       "</table>\n",
       "</div>"
      ],
      "text/plain": [
       "loan_status grade  Charged Off  Fully Paid  Total Cases  default_rate\n",
       "0               A          550        8770         9320      5.901288\n",
       "1               B         1312        9537        10849     12.093280\n",
       "2               C         1269        6083         7352     17.260609\n",
       "3               D         1052        3707         4759     22.105484\n",
       "4               E          649        1777         2426     26.751855\n",
       "5               F          286         589          875     32.685714\n",
       "6               G           95         173          268     35.447761"
      ]
     },
     "execution_count": 90,
     "metadata": {},
     "output_type": "execute_result"
    }
   ],
   "source": [
    "grade_pvt\n"
   ]
  },
  {
   "cell_type": "code",
   "execution_count": 91,
   "id": "f6a45149",
   "metadata": {},
   "outputs": [
    {
     "data": {
      "image/png": "[encoded data removed]",
      "text/plain": [
       "<Figure size 432x432 with 1 Axes>"
      ]
     },
     "metadata": {
      "needs_background": "light"
     },
     "output_type": "display_data"
    }
   ],
   "source": [
    "fig = grade_pvt.plot(kind='bar', x='grade', y='default_rate', ylabel='default_rate', rot=0,figsize=[6,6]).get_figure()"
   ]
  },
  {
   "cell_type": "code",
   "execution_count": 92,
   "id": "7f780fdf",
   "metadata": {},
   "outputs": [],
   "source": [
    "fig.savefig('grade_analysis.png')"
   ]
  },
  {
   "cell_type": "markdown",
   "id": "057a5501",
   "metadata": {},
   "source": [
    "### Inference"
   ]
  },
  {
   "cell_type": "markdown",
   "id": "2f026488",
   "metadata": {},
   "source": [
    "As the grade increases from A to G, the default_rate goes on increasing. Hence we can say that grade is good predictor.\n",
    "\n"
   ]
  },
  {
   "cell_type": "markdown",
   "id": "8390c62b",
   "metadata": {},
   "source": [
    "### Analysing Default rate of Emp_length\n"
   ]
  },
  {
   "cell_type": "code",
   "execution_count": 94,
   "id": "8aaa8afe",
   "metadata": {},
   "outputs": [],
   "source": [
    "emp_length_pivot = pd.pivot_table(cleaned_data, values='id', index=['emp_length'],columns=['loan_status'], aggfunc='count')\n"
   ]
  },
  {
   "cell_type": "code",
   "execution_count": 95,
   "id": "2b9f18de",
   "metadata": {},
   "outputs": [
    {
     "data": {
      "text/html": [
       "<div>\n",
       "<style scoped>\n",
       "    .dataframe tbody tr th:only-of-type {\n",
       "        vertical-align: middle;\n",
       "    }\n",
       "\n",
       "    .dataframe tbody tr th {\n",
       "        vertical-align: top;\n",
       "    }\n",
       "\n",
       "    .dataframe thead th {\n",
       "        text-align: right;\n",
       "    }\n",
       "</style>\n",
       "<table border=\"1\" class=\"dataframe\">\n",
       "  <thead>\n",
       "    <tr style=\"text-align: right;\">\n",
       "      <th>loan_status</th>\n",
       "      <th>Charged Off</th>\n",
       "      <th>Fully Paid</th>\n",
       "    </tr>\n",
       "    <tr>\n",
       "      <th>emp_length</th>\n",
       "      <th></th>\n",
       "      <th></th>\n",
       "    </tr>\n",
       "  </thead>\n",
       "  <tbody>\n",
       "    <tr>\n",
       "      <th>1 year</th>\n",
       "      <td>451</td>\n",
       "      <td>2608</td>\n",
       "    </tr>\n",
       "    <tr>\n",
       "      <th>10+ years</th>\n",
       "      <td>1279</td>\n",
       "      <td>6675</td>\n",
       "    </tr>\n",
       "    <tr>\n",
       "      <th>2 years</th>\n",
       "      <td>548</td>\n",
       "      <td>3575</td>\n",
       "    </tr>\n",
       "    <tr>\n",
       "      <th>3 years</th>\n",
       "      <td>537</td>\n",
       "      <td>3307</td>\n",
       "    </tr>\n",
       "    <tr>\n",
       "      <th>4 years</th>\n",
       "      <td>445</td>\n",
       "      <td>2773</td>\n",
       "    </tr>\n",
       "    <tr>\n",
       "      <th>5 years</th>\n",
       "      <td>441</td>\n",
       "      <td>2617</td>\n",
       "    </tr>\n",
       "    <tr>\n",
       "      <th>6 years</th>\n",
       "      <td>297</td>\n",
       "      <td>1785</td>\n",
       "    </tr>\n",
       "    <tr>\n",
       "      <th>7 years</th>\n",
       "      <td>252</td>\n",
       "      <td>1396</td>\n",
       "    </tr>\n",
       "    <tr>\n",
       "      <th>8 years</th>\n",
       "      <td>194</td>\n",
       "      <td>1156</td>\n",
       "    </tr>\n",
       "    <tr>\n",
       "      <th>9 years</th>\n",
       "      <td>151</td>\n",
       "      <td>1008</td>\n",
       "    </tr>\n",
       "    <tr>\n",
       "      <th>&lt; 1 year</th>\n",
       "      <td>618</td>\n",
       "      <td>3736</td>\n",
       "    </tr>\n",
       "  </tbody>\n",
       "</table>\n",
       "</div>"
      ],
      "text/plain": [
       "loan_status  Charged Off  Fully Paid\n",
       "emp_length                          \n",
       "1 year               451        2608\n",
       "10+ years           1279        6675\n",
       "2 years              548        3575\n",
       "3 years              537        3307\n",
       "4 years              445        2773\n",
       "5 years              441        2617\n",
       "6 years              297        1785\n",
       "7 years              252        1396\n",
       "8 years              194        1156\n",
       "9 years              151        1008\n",
       "< 1 year             618        3736"
      ]
     },
     "execution_count": 95,
     "metadata": {},
     "output_type": "execute_result"
    }
   ],
   "source": [
    "emp_length_pivot\n"
   ]
  },
  {
   "cell_type": "code",
   "execution_count": 96,
   "id": "865b5936",
   "metadata": {},
   "outputs": [],
   "source": [
    "emp_length_pivot = calc_default_rate(emp_length_pivot)"
   ]
  },
  {
   "cell_type": "code",
   "execution_count": 97,
   "id": "fbb17991",
   "metadata": {},
   "outputs": [
    {
     "data": {
      "text/html": [
       "<div>\n",
       "<style scoped>\n",
       "    .dataframe tbody tr th:only-of-type {\n",
       "        vertical-align: middle;\n",
       "    }\n",
       "\n",
       "    .dataframe tbody tr th {\n",
       "        vertical-align: top;\n",
       "    }\n",
       "\n",
       "    .dataframe thead th {\n",
       "        text-align: right;\n",
       "    }\n",
       "</style>\n",
       "<table border=\"1\" class=\"dataframe\">\n",
       "  <thead>\n",
       "    <tr style=\"text-align: right;\">\n",
       "      <th>loan_status</th>\n",
       "      <th>emp_length</th>\n",
       "      <th>Charged Off</th>\n",
       "      <th>Fully Paid</th>\n",
       "      <th>Total Cases</th>\n",
       "      <th>default_rate</th>\n",
       "    </tr>\n",
       "  </thead>\n",
       "  <tbody>\n",
       "    <tr>\n",
       "      <th>0</th>\n",
       "      <td>1 year</td>\n",
       "      <td>451</td>\n",
       "      <td>2608</td>\n",
       "      <td>3059</td>\n",
       "      <td>14.743380</td>\n",
       "    </tr>\n",
       "    <tr>\n",
       "      <th>1</th>\n",
       "      <td>10+ years</td>\n",
       "      <td>1279</td>\n",
       "      <td>6675</td>\n",
       "      <td>7954</td>\n",
       "      <td>16.079960</td>\n",
       "    </tr>\n",
       "    <tr>\n",
       "      <th>2</th>\n",
       "      <td>2 years</td>\n",
       "      <td>548</td>\n",
       "      <td>3575</td>\n",
       "      <td>4123</td>\n",
       "      <td>13.291293</td>\n",
       "    </tr>\n",
       "    <tr>\n",
       "      <th>3</th>\n",
       "      <td>3 years</td>\n",
       "      <td>537</td>\n",
       "      <td>3307</td>\n",
       "      <td>3844</td>\n",
       "      <td>13.969823</td>\n",
       "    </tr>\n",
       "    <tr>\n",
       "      <th>4</th>\n",
       "      <td>4 years</td>\n",
       "      <td>445</td>\n",
       "      <td>2773</td>\n",
       "      <td>3218</td>\n",
       "      <td>13.828465</td>\n",
       "    </tr>\n",
       "    <tr>\n",
       "      <th>5</th>\n",
       "      <td>5 years</td>\n",
       "      <td>441</td>\n",
       "      <td>2617</td>\n",
       "      <td>3058</td>\n",
       "      <td>14.421190</td>\n",
       "    </tr>\n",
       "    <tr>\n",
       "      <th>6</th>\n",
       "      <td>6 years</td>\n",
       "      <td>297</td>\n",
       "      <td>1785</td>\n",
       "      <td>2082</td>\n",
       "      <td>14.265130</td>\n",
       "    </tr>\n",
       "    <tr>\n",
       "      <th>7</th>\n",
       "      <td>7 years</td>\n",
       "      <td>252</td>\n",
       "      <td>1396</td>\n",
       "      <td>1648</td>\n",
       "      <td>15.291262</td>\n",
       "    </tr>\n",
       "    <tr>\n",
       "      <th>8</th>\n",
       "      <td>8 years</td>\n",
       "      <td>194</td>\n",
       "      <td>1156</td>\n",
       "      <td>1350</td>\n",
       "      <td>14.370370</td>\n",
       "    </tr>\n",
       "    <tr>\n",
       "      <th>9</th>\n",
       "      <td>9 years</td>\n",
       "      <td>151</td>\n",
       "      <td>1008</td>\n",
       "      <td>1159</td>\n",
       "      <td>13.028473</td>\n",
       "    </tr>\n",
       "    <tr>\n",
       "      <th>10</th>\n",
       "      <td>&lt; 1 year</td>\n",
       "      <td>618</td>\n",
       "      <td>3736</td>\n",
       "      <td>4354</td>\n",
       "      <td>14.193845</td>\n",
       "    </tr>\n",
       "  </tbody>\n",
       "</table>\n",
       "</div>"
      ],
      "text/plain": [
       "loan_status emp_length  Charged Off  Fully Paid  Total Cases  default_rate\n",
       "0               1 year          451        2608         3059     14.743380\n",
       "1            10+ years         1279        6675         7954     16.079960\n",
       "2              2 years          548        3575         4123     13.291293\n",
       "3              3 years          537        3307         3844     13.969823\n",
       "4              4 years          445        2773         3218     13.828465\n",
       "5              5 years          441        2617         3058     14.421190\n",
       "6              6 years          297        1785         2082     14.265130\n",
       "7              7 years          252        1396         1648     15.291262\n",
       "8              8 years          194        1156         1350     14.370370\n",
       "9              9 years          151        1008         1159     13.028473\n",
       "10            < 1 year          618        3736         4354     14.193845"
      ]
     },
     "execution_count": 97,
     "metadata": {},
     "output_type": "execute_result"
    }
   ],
   "source": [
    "emp_length_pivot"
   ]
  },
  {
   "cell_type": "code",
   "execution_count": 99,
   "id": "04748a08",
   "metadata": {},
   "outputs": [
    {
     "data": {
      "image/png": "[encoded data removed]",
      "text/plain": [
       "<Figure size 648x648 with 1 Axes>"
      ]
     },
     "metadata": {
      "needs_background": "light"
     },
     "output_type": "display_data"
    }
   ],
   "source": [
    "fig = emp_length_pivot.plot(kind='bar', x='emp_length', y='default_rate', rot=0,figsize=[9,9]).get_figure()"
   ]
  },
  {
   "cell_type": "markdown",
   "id": "da2c3ab6",
   "metadata": {},
   "source": [
    "### Inference"
   ]
  },
  {
   "cell_type": "markdown",
   "id": "28bc90cb",
   "metadata": {},
   "source": [
    "As values of all the segments of emp_length is roughly same, we can say that emp_length is not a good predictor\n",
    "\n"
   ]
  },
  {
   "cell_type": "markdown",
   "id": "5c9cfcd4",
   "metadata": {},
   "source": [
    "### Analysing default rate of interest_rate\n"
   ]
  },
  {
   "cell_type": "code",
   "execution_count": 100,
   "id": "90b2f134",
   "metadata": {},
   "outputs": [],
   "source": [
    "bins = range(0,24,4)\n",
    "cleaned_data['int_rate_bins'] = pd.cut(cleaned_data['int_rate'], bins=bins)"
   ]
  },
  {
   "cell_type": "code",
   "execution_count": 101,
   "id": "adc0f39f",
   "metadata": {},
   "outputs": [],
   "source": [
    "int_rate_pvt = pd.pivot_table(cleaned_data, values='id', index=['int_rate_bins'],columns=['loan_status'], aggfunc='count')"
   ]
  },
  {
   "cell_type": "code",
   "execution_count": 102,
   "id": "1a3ad3ee",
   "metadata": {},
   "outputs": [],
   "source": [
    "int_rate_pvt = calc_default_rate(int_rate_pvt)"
   ]
  },
  {
   "cell_type": "code",
   "execution_count": 103,
   "id": "80c318af",
   "metadata": {},
   "outputs": [
    {
     "data": {
      "text/html": [
       "<div>\n",
       "<style scoped>\n",
       "    .dataframe tbody tr th:only-of-type {\n",
       "        vertical-align: middle;\n",
       "    }\n",
       "\n",
       "    .dataframe tbody tr th {\n",
       "        vertical-align: top;\n",
       "    }\n",
       "\n",
       "    .dataframe thead th {\n",
       "        text-align: right;\n",
       "    }\n",
       "</style>\n",
       "<table border=\"1\" class=\"dataframe\">\n",
       "  <thead>\n",
       "    <tr style=\"text-align: right;\">\n",
       "      <th>loan_status</th>\n",
       "      <th>int_rate_bins</th>\n",
       "      <th>Charged Off</th>\n",
       "      <th>Fully Paid</th>\n",
       "      <th>Total Cases</th>\n",
       "      <th>default_rate</th>\n",
       "    </tr>\n",
       "  </thead>\n",
       "  <tbody>\n",
       "    <tr>\n",
       "      <th>0</th>\n",
       "      <td>(0, 4]</td>\n",
       "      <td>0</td>\n",
       "      <td>0</td>\n",
       "      <td>0</td>\n",
       "      <td>NaN</td>\n",
       "    </tr>\n",
       "    <tr>\n",
       "      <th>1</th>\n",
       "      <td>(4, 8]</td>\n",
       "      <td>395</td>\n",
       "      <td>7200</td>\n",
       "      <td>7595</td>\n",
       "      <td>5.200790</td>\n",
       "    </tr>\n",
       "    <tr>\n",
       "      <th>2</th>\n",
       "      <td>(8, 12]</td>\n",
       "      <td>1348</td>\n",
       "      <td>10235</td>\n",
       "      <td>11583</td>\n",
       "      <td>11.637745</td>\n",
       "    </tr>\n",
       "    <tr>\n",
       "      <th>3</th>\n",
       "      <td>(12, 16]</td>\n",
       "      <td>2042</td>\n",
       "      <td>9702</td>\n",
       "      <td>11744</td>\n",
       "      <td>17.387602</td>\n",
       "    </tr>\n",
       "    <tr>\n",
       "      <th>4</th>\n",
       "      <td>(16, 20]</td>\n",
       "      <td>1162</td>\n",
       "      <td>3091</td>\n",
       "      <td>4253</td>\n",
       "      <td>27.321890</td>\n",
       "    </tr>\n",
       "  </tbody>\n",
       "</table>\n",
       "</div>"
      ],
      "text/plain": [
       "loan_status int_rate_bins  Charged Off  Fully Paid  Total Cases  default_rate\n",
       "0                  (0, 4]            0           0            0           NaN\n",
       "1                  (4, 8]          395        7200         7595      5.200790\n",
       "2                 (8, 12]         1348       10235        11583     11.637745\n",
       "3                (12, 16]         2042        9702        11744     17.387602\n",
       "4                (16, 20]         1162        3091         4253     27.321890"
      ]
     },
     "execution_count": 103,
     "metadata": {},
     "output_type": "execute_result"
    }
   ],
   "source": [
    "int_rate_pvt"
   ]
  },
  {
   "cell_type": "code",
   "execution_count": 104,
   "id": "c2abd33e",
   "metadata": {},
   "outputs": [
    {
     "data": {
      "image/png": "[encoded data removed]",
      "text/plain": [
       "<Figure size 432x432 with 1 Axes>"
      ]
     },
     "metadata": {
      "needs_background": "light"
     },
     "output_type": "display_data"
    }
   ],
   "source": [
    "fig = int_rate_pvt.plot(kind='bar', x='int_rate_bins', y='default_rate',ylabel = 'default_rate',rot=0,figsize=[6,6]).get_figure()\n"
   ]
  },
  {
   "cell_type": "code",
   "execution_count": 105,
   "id": "7289f0d7",
   "metadata": {},
   "outputs": [],
   "source": [
    "fig.savefig('interest_rate_plot.png')"
   ]
  },
  {
   "cell_type": "markdown",
   "id": "b9010075",
   "metadata": {},
   "source": [
    "### Analysing default rate for dti column\n"
   ]
  },
  {
   "cell_type": "code",
   "execution_count": 107,
   "id": "cfc223c5",
   "metadata": {},
   "outputs": [],
   "source": [
    "bins = range(0,30,5)\n",
    "cleaned_data['dti_bins'] = pd.cut(cleaned_data['dti'], bins)"
   ]
  },
  {
   "cell_type": "code",
   "execution_count": 108,
   "id": "b0718576",
   "metadata": {},
   "outputs": [],
   "source": [
    "dti_pvt = pd.pivot_table(cleaned_data, values='id', index=['dti_bins'],columns=['loan_status'], aggfunc='count')\n"
   ]
  },
  {
   "cell_type": "code",
   "execution_count": 109,
   "id": "b6031726",
   "metadata": {},
   "outputs": [
    {
     "data": {
      "text/html": [
       "<div>\n",
       "<style scoped>\n",
       "    .dataframe tbody tr th:only-of-type {\n",
       "        vertical-align: middle;\n",
       "    }\n",
       "\n",
       "    .dataframe tbody tr th {\n",
       "        vertical-align: top;\n",
       "    }\n",
       "\n",
       "    .dataframe thead th {\n",
       "        text-align: right;\n",
       "    }\n",
       "</style>\n",
       "<table border=\"1\" class=\"dataframe\">\n",
       "  <thead>\n",
       "    <tr style=\"text-align: right;\">\n",
       "      <th>loan_status</th>\n",
       "      <th>Charged Off</th>\n",
       "      <th>Fully Paid</th>\n",
       "    </tr>\n",
       "    <tr>\n",
       "      <th>dti_bins</th>\n",
       "      <th></th>\n",
       "      <th></th>\n",
       "    </tr>\n",
       "  </thead>\n",
       "  <tbody>\n",
       "    <tr>\n",
       "      <th>(0, 5]</th>\n",
       "      <td>542</td>\n",
       "      <td>3791</td>\n",
       "    </tr>\n",
       "    <tr>\n",
       "      <th>(5, 10]</th>\n",
       "      <td>911</td>\n",
       "      <td>6196</td>\n",
       "    </tr>\n",
       "    <tr>\n",
       "      <th>(10, 15]</th>\n",
       "      <td>1301</td>\n",
       "      <td>7696</td>\n",
       "    </tr>\n",
       "    <tr>\n",
       "      <th>(15, 20]</th>\n",
       "      <td>1301</td>\n",
       "      <td>7059</td>\n",
       "    </tr>\n",
       "    <tr>\n",
       "      <th>(20, 25]</th>\n",
       "      <td>1053</td>\n",
       "      <td>5248</td>\n",
       "    </tr>\n",
       "  </tbody>\n",
       "</table>\n",
       "</div>"
      ],
      "text/plain": [
       "loan_status  Charged Off  Fully Paid\n",
       "dti_bins                            \n",
       "(0, 5]               542        3791\n",
       "(5, 10]              911        6196\n",
       "(10, 15]            1301        7696\n",
       "(15, 20]            1301        7059\n",
       "(20, 25]            1053        5248"
      ]
     },
     "execution_count": 109,
     "metadata": {},
     "output_type": "execute_result"
    }
   ],
   "source": [
    "dti_pvt"
   ]
  },
  {
   "cell_type": "code",
   "execution_count": 110,
   "id": "ac5ae32f",
   "metadata": {},
   "outputs": [],
   "source": [
    "dti_pvt = calc_default_rate(dti_pvt)"
   ]
  },
  {
   "cell_type": "code",
   "execution_count": 111,
   "id": "cc0952f8",
   "metadata": {},
   "outputs": [
    {
     "data": {
      "text/html": [
       "<div>\n",
       "<style scoped>\n",
       "    .dataframe tbody tr th:only-of-type {\n",
       "        vertical-align: middle;\n",
       "    }\n",
       "\n",
       "    .dataframe tbody tr th {\n",
       "        vertical-align: top;\n",
       "    }\n",
       "\n",
       "    .dataframe thead th {\n",
       "        text-align: right;\n",
       "    }\n",
       "</style>\n",
       "<table border=\"1\" class=\"dataframe\">\n",
       "  <thead>\n",
       "    <tr style=\"text-align: right;\">\n",
       "      <th>loan_status</th>\n",
       "      <th>dti_bins</th>\n",
       "      <th>Charged Off</th>\n",
       "      <th>Fully Paid</th>\n",
       "      <th>Total Cases</th>\n",
       "      <th>default_rate</th>\n",
       "    </tr>\n",
       "  </thead>\n",
       "  <tbody>\n",
       "    <tr>\n",
       "      <th>0</th>\n",
       "      <td>(0, 5]</td>\n",
       "      <td>542</td>\n",
       "      <td>3791</td>\n",
       "      <td>4333</td>\n",
       "      <td>12.508655</td>\n",
       "    </tr>\n",
       "    <tr>\n",
       "      <th>1</th>\n",
       "      <td>(5, 10]</td>\n",
       "      <td>911</td>\n",
       "      <td>6196</td>\n",
       "      <td>7107</td>\n",
       "      <td>12.818348</td>\n",
       "    </tr>\n",
       "    <tr>\n",
       "      <th>2</th>\n",
       "      <td>(10, 15]</td>\n",
       "      <td>1301</td>\n",
       "      <td>7696</td>\n",
       "      <td>8997</td>\n",
       "      <td>14.460376</td>\n",
       "    </tr>\n",
       "    <tr>\n",
       "      <th>3</th>\n",
       "      <td>(15, 20]</td>\n",
       "      <td>1301</td>\n",
       "      <td>7059</td>\n",
       "      <td>8360</td>\n",
       "      <td>15.562201</td>\n",
       "    </tr>\n",
       "    <tr>\n",
       "      <th>4</th>\n",
       "      <td>(20, 25]</td>\n",
       "      <td>1053</td>\n",
       "      <td>5248</td>\n",
       "      <td>6301</td>\n",
       "      <td>16.711633</td>\n",
       "    </tr>\n",
       "  </tbody>\n",
       "</table>\n",
       "</div>"
      ],
      "text/plain": [
       "loan_status  dti_bins  Charged Off  Fully Paid  Total Cases  default_rate\n",
       "0              (0, 5]          542        3791         4333     12.508655\n",
       "1             (5, 10]          911        6196         7107     12.818348\n",
       "2            (10, 15]         1301        7696         8997     14.460376\n",
       "3            (15, 20]         1301        7059         8360     15.562201\n",
       "4            (20, 25]         1053        5248         6301     16.711633"
      ]
     },
     "execution_count": 111,
     "metadata": {},
     "output_type": "execute_result"
    }
   ],
   "source": [
    "dti_pvt"
   ]
  },
  {
   "cell_type": "code",
   "execution_count": 112,
   "id": "bdf04e73",
   "metadata": {},
   "outputs": [
    {
     "data": {
      "image/png": "[encoded data removed]",
      "text/plain": [
       "<Figure size 432x432 with 1 Axes>"
      ]
     },
     "metadata": {
      "needs_background": "light"
     },
     "output_type": "display_data"
    }
   ],
   "source": [
    "fig = dti_pvt.plot(kind='bar', x='dti_bins', y='default_rate',ylabel = 'default_rate',rot=0,figsize=[6,6]).get_figure()"
   ]
  },
  {
   "cell_type": "code",
   "execution_count": 113,
   "id": "7dcf1004",
   "metadata": {},
   "outputs": [],
   "source": [
    "fig.savefig('dti_plot.png')"
   ]
  },
  {
   "cell_type": "markdown",
   "id": "84fe137f",
   "metadata": {},
   "source": [
    "### Inference"
   ]
  },
  {
   "cell_type": "markdown",
   "id": "6f80ceb4",
   "metadata": {},
   "source": [
    "As dti is emi_obligation divided by income, as the numerator increases or denomiator decreases so does default rate. Hence we can say that as the dti increases, so does default rate. We can say that this is a good predictor for default rate."
   ]
  },
  {
   "cell_type": "markdown",
   "id": "7085d1ae",
   "metadata": {},
   "source": [
    "### Analyzing default rate for column Annual income"
   ]
  },
  {
   "cell_type": "code",
   "execution_count": 114,
   "id": "4bed98b6",
   "metadata": {},
   "outputs": [],
   "source": [
    "bins = range(0,120000,10000)\n",
    "cleaned_data['annual_inc_bins'] = pd.cut(cleaned_data['annual_inc'], bins=bins)"
   ]
  },
  {
   "cell_type": "code",
   "execution_count": 115,
   "id": "0db2e764",
   "metadata": {},
   "outputs": [],
   "source": [
    "annual_inc_pvt = pd.pivot_table(cleaned_data, values='id', index=['annual_inc_bins'],columns=['loan_status'], aggfunc='count')"
   ]
  },
  {
   "cell_type": "code",
   "execution_count": 116,
   "id": "2a2e1942",
   "metadata": {},
   "outputs": [],
   "source": [
    "annual_inc_pvt = calc_default_rate(annual_inc_pvt)"
   ]
  },
  {
   "cell_type": "code",
   "execution_count": 117,
   "id": "43d19fd1",
   "metadata": {},
   "outputs": [
    {
     "data": {
      "text/html": [
       "<div>\n",
       "<style scoped>\n",
       "    .dataframe tbody tr th:only-of-type {\n",
       "        vertical-align: middle;\n",
       "    }\n",
       "\n",
       "    .dataframe tbody tr th {\n",
       "        vertical-align: top;\n",
       "    }\n",
       "\n",
       "    .dataframe thead th {\n",
       "        text-align: right;\n",
       "    }\n",
       "</style>\n",
       "<table border=\"1\" class=\"dataframe\">\n",
       "  <thead>\n",
       "    <tr style=\"text-align: right;\">\n",
       "      <th>loan_status</th>\n",
       "      <th>annual_inc_bins</th>\n",
       "      <th>Charged Off</th>\n",
       "      <th>Fully Paid</th>\n",
       "      <th>Total Cases</th>\n",
       "      <th>default_rate</th>\n",
       "    </tr>\n",
       "  </thead>\n",
       "  <tbody>\n",
       "    <tr>\n",
       "      <th>0</th>\n",
       "      <td>(0, 10000]</td>\n",
       "      <td>17</td>\n",
       "      <td>58</td>\n",
       "      <td>75</td>\n",
       "      <td>22.666667</td>\n",
       "    </tr>\n",
       "    <tr>\n",
       "      <th>1</th>\n",
       "      <td>(10000, 20000]</td>\n",
       "      <td>174</td>\n",
       "      <td>760</td>\n",
       "      <td>934</td>\n",
       "      <td>18.629550</td>\n",
       "    </tr>\n",
       "    <tr>\n",
       "      <th>2</th>\n",
       "      <td>(20000, 30000]</td>\n",
       "      <td>561</td>\n",
       "      <td>2612</td>\n",
       "      <td>3173</td>\n",
       "      <td>17.680429</td>\n",
       "    </tr>\n",
       "    <tr>\n",
       "      <th>3</th>\n",
       "      <td>(30000, 40000]</td>\n",
       "      <td>860</td>\n",
       "      <td>4096</td>\n",
       "      <td>4956</td>\n",
       "      <td>17.352704</td>\n",
       "    </tr>\n",
       "    <tr>\n",
       "      <th>4</th>\n",
       "      <td>(40000, 50000]</td>\n",
       "      <td>826</td>\n",
       "      <td>4713</td>\n",
       "      <td>5539</td>\n",
       "      <td>14.912439</td>\n",
       "    </tr>\n",
       "    <tr>\n",
       "      <th>5</th>\n",
       "      <td>(50000, 60000]</td>\n",
       "      <td>849</td>\n",
       "      <td>4613</td>\n",
       "      <td>5462</td>\n",
       "      <td>15.543757</td>\n",
       "    </tr>\n",
       "    <tr>\n",
       "      <th>6</th>\n",
       "      <td>(60000, 70000]</td>\n",
       "      <td>545</td>\n",
       "      <td>3481</td>\n",
       "      <td>4026</td>\n",
       "      <td>13.537009</td>\n",
       "    </tr>\n",
       "    <tr>\n",
       "      <th>7</th>\n",
       "      <td>(70000, 80000]</td>\n",
       "      <td>457</td>\n",
       "      <td>3022</td>\n",
       "      <td>3479</td>\n",
       "      <td>13.135959</td>\n",
       "    </tr>\n",
       "    <tr>\n",
       "      <th>8</th>\n",
       "      <td>(80000, 90000]</td>\n",
       "      <td>299</td>\n",
       "      <td>2179</td>\n",
       "      <td>2478</td>\n",
       "      <td>12.066182</td>\n",
       "    </tr>\n",
       "    <tr>\n",
       "      <th>9</th>\n",
       "      <td>(90000, 100000]</td>\n",
       "      <td>222</td>\n",
       "      <td>1765</td>\n",
       "      <td>1987</td>\n",
       "      <td>11.172622</td>\n",
       "    </tr>\n",
       "    <tr>\n",
       "      <th>10</th>\n",
       "      <td>(100000, 110000]</td>\n",
       "      <td>128</td>\n",
       "      <td>1087</td>\n",
       "      <td>1215</td>\n",
       "      <td>10.534979</td>\n",
       "    </tr>\n",
       "  </tbody>\n",
       "</table>\n",
       "</div>"
      ],
      "text/plain": [
       "loan_status   annual_inc_bins  Charged Off  Fully Paid  Total Cases  \\\n",
       "0                  (0, 10000]           17          58           75   \n",
       "1              (10000, 20000]          174         760          934   \n",
       "2              (20000, 30000]          561        2612         3173   \n",
       "3              (30000, 40000]          860        4096         4956   \n",
       "4              (40000, 50000]          826        4713         5539   \n",
       "5              (50000, 60000]          849        4613         5462   \n",
       "6              (60000, 70000]          545        3481         4026   \n",
       "7              (70000, 80000]          457        3022         3479   \n",
       "8              (80000, 90000]          299        2179         2478   \n",
       "9             (90000, 100000]          222        1765         1987   \n",
       "10           (100000, 110000]          128        1087         1215   \n",
       "\n",
       "loan_status  default_rate  \n",
       "0               22.666667  \n",
       "1               18.629550  \n",
       "2               17.680429  \n",
       "3               17.352704  \n",
       "4               14.912439  \n",
       "5               15.543757  \n",
       "6               13.537009  \n",
       "7               13.135959  \n",
       "8               12.066182  \n",
       "9               11.172622  \n",
       "10              10.534979  "
      ]
     },
     "execution_count": 117,
     "metadata": {},
     "output_type": "execute_result"
    }
   ],
   "source": [
    "annual_inc_pvt\n"
   ]
  },
  {
   "cell_type": "code",
   "execution_count": 118,
   "id": "1be44ae2",
   "metadata": {},
   "outputs": [
    {
     "data": {
      "image/png": "[encoded data removed]",
      "text/plain": [
       "<Figure size 576x432 with 1 Axes>"
      ]
     },
     "metadata": {
      "needs_background": "light"
     },
     "output_type": "display_data"
    }
   ],
   "source": [
    "fig = annual_inc_pvt.plot(kind='bar', x='annual_inc_bins', y='default_rate',ylabel = 'default_rate',figsize=[8,6]).get_figure()"
   ]
  },
  {
   "cell_type": "code",
   "execution_count": 119,
   "id": "261e2f64",
   "metadata": {},
   "outputs": [],
   "source": [
    "fig.savefig('annual_inc_plot.png')"
   ]
  },
  {
   "cell_type": "markdown",
   "id": "82188024",
   "metadata": {},
   "source": [
    "### Inference"
   ]
  },
  {
   "cell_type": "markdown",
   "id": "c784365b",
   "metadata": {},
   "source": [
    "- It is clearly evident from the plot that as lower the annual income, higher the chance of default.\n",
    "\n"
   ]
  },
  {
   "cell_type": "markdown",
   "id": "6839ef52",
   "metadata": {},
   "source": [
    "## Recommenation\n"
   ]
  },
  {
   "cell_type": "markdown",
   "id": "38cafd73",
   "metadata": {},
   "source": [
    "- Annual income of the customer has a high influence on determining whether the customer is likely to default or not. Lower the annual income, higher the chance of default.\n"
   ]
  },
  {
   "cell_type": "markdown",
   "id": "d2154333",
   "metadata": {},
   "source": [
    "- Interest rate is also a good driver variable in determining if the customer is likely to default. Higher the interest rate, higher chance of default.\n"
   ]
  },
  {
   "cell_type": "markdown",
   "id": "4008d52b",
   "metadata": {},
   "source": [
    "- Grade is one of the best variable to predict default. Giving loan to E, F and G category can be one of a good ways to reduce default."
   ]
  },
  {
   "cell_type": "markdown",
   "id": "82502001",
   "metadata": {},
   "source": [
    "- dti(debt to income ratio) shows a good trend of increasing default with increase in dti. As debt increases or income decreases, the customer is more likely to default\n"
   ]
  },
  {
   "cell_type": "markdown",
   "id": "61829ef5",
   "metadata": {},
   "source": [
    "- Loan amount should be carefully decided as we can see that higher loan amount segments have higher default rate."
   ]
  },
  {
   "cell_type": "code",
   "execution_count": null,
   "id": "bd5d72e3",
   "metadata": {},
   "outputs": [],
   "source": []
  }
 ],
 "metadata": {
  "kernelspec": {
   "display_name": "Python 3 (ipykernel)",
   "language": "python",
   "name": "python3"
  },
  "language_info": {
   "codemirror_mode": {
    "name": "ipython",
    "version": 3
   },
   "file_extension": ".py",
   "mimetype": "text/x-python",
   "name": "python",
   "nbconvert_exporter": "python",
   "pygments_lexer": "ipython3",
   "version": "3.9.7"
  }
 },
 "nbformat": 4,
 "nbformat_minor": 5
}
